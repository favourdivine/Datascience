{
 "cells": [
  {
   "cell_type": "code",
   "execution_count": null,
   "id": "4e08ad56",
   "metadata": {},
   "outputs": [],
   "source": [
    "## What is a Class?\n",
    "## A class is a blueprint for creating objects. It defines the structure and behavior that the objects of the class will have.\n",
    "## Think of a class as a template or a cookie cutter,\n",
    "## and objects as the cookies you create using that cutter"
   ]
  },
  {
   "cell_type": "code",
   "execution_count": null,
   "id": "97318b29",
   "metadata": {},
   "outputs": [],
   "source": [
    "class dog:\n",
    "    def__init__(self,name,breed):\n",
    "        self.name:name\n",
    "        self.breed:breed\n",
    "    "
   ]
  },
  {
   "cell_type": "code",
   "execution_count": 12,
   "id": "852f5dcc",
   "metadata": {},
   "outputs": [
    {
     "name": "stdout",
     "output_type": "stream",
     "text": [
      " My is lamgboghini nice to meet you !!,Enjoy the ride of lamgboghini\n",
      "just your option correctly [1],[2],[3],[4],[5],[6]1\n"
     ]
    }
   ],
   "source": [
    "class simulation:\n",
    "    def __init__(self,brand,model,color,year,speed):\n",
    "        self.brand = brand\n",
    "        self.model = model\n",
    "        self.color = color\n",
    "        self.year = year\n",
    "        self.speed = speed\n",
    "    def start(self):\n",
    "        print(f\" My is {self.brand} nice to meet you !!,Enjoy the ride of {self.brand}\")\n",
    "    def properties(self):\n",
    "        print(f\" This {self.brand} have the properties of {self.model},{self.color},{self.year},{self.speed}\")\n",
    "    def motion(self):\n",
    "        user_input= float(input(\"just your option correctly [1],[2],[3],[4],[5],[6]\"))\n",
    "        if 1 == \"start\":\n",
    "            print(f\" The {self.brand} start now\")\n",
    "        elif 2 == \"gear\":\n",
    "              user_input2= input(\"gear mode[1,2,3,4,5,speed mode]\")   \n",
    "        if \"gear mode\" == 1:\n",
    "            print(f\"you have{self.brand} ignited to Gear 1\")\n",
    "        elif \"gear mode\" == 1:\n",
    "            print(f\"you have{self.brand} ignited to Gear 2\") \n",
    "        elif \"gear mode\" == 1:\n",
    "            print(f\"you have{self.brand} ignited to Gear 3\") \n",
    "        elif \"gear mode\" == 1:\n",
    "            print(f\"you have {self.brand} ignited to Gear 4\")\n",
    "        elif \"gear mode\" == 1:\n",
    "            print(f\"you have {self.brand} ignited to Gear 5\")\n",
    "        elif \"gear mode\" == 1:\n",
    "            print(f\"you have {self.brand} ignited to speed mode\")\n",
    "car= simulation(\"lamgboghini\",\"Aventador\",\"blue\",\"2021\",\"220mph\")\n",
    "car.start()\n",
    "car.motion()"
   ]
  },
  {
   "cell_type": "code",
   "execution_count": null,
   "id": "95957bf2",
   "metadata": {},
   "outputs": [],
   "source": [
    "start\n",
    "Gear\n",
    "option\n",
    "stop\n",
    "Motion\n",
    "option"
   ]
  },
  {
   "cell_type": "code",
   "execution_count": null,
   "id": "43f0f2ee",
   "metadata": {},
   "outputs": [],
   "source": [
    "## call another class in another simulator \n",
    "class d() "
   ]
  },
  {
   "cell_type": "code",
   "execution_count": 40,
   "id": "f36124e1",
   "metadata": {},
   "outputs": [
    {
     "name": "stdout",
     "output_type": "stream",
     "text": [
      " The Mercedes benz of E_classic is in acceration of 100MPH\n",
      "The Mercedes benz of E_classic has ignited 5\n"
     ]
    }
   ],
   "source": [
    "class simulation_Ent:\n",
    "    def __init__(self,make,model,speed,gear):\n",
    "        self.make = make\n",
    "        self.model= model\n",
    "        self.speed = 0\n",
    "        self.gear = 1\n",
    "    def acceralation(self, amount):\n",
    "        self.speed += amount\n",
    "        print(f\" The {self.make} of {self.model} is in acceration of {self.speed}MPH\")\n",
    "    def brake(self, amount):\n",
    "        self.speed <= amount\n",
    "        if self.speed < 0:\n",
    "            self.speed = 0\n",
    "            print(f\" The {self.make} of {self.model} has stopped of {self.speed}\")\n",
    "    def change_gear(self, new_gear):\n",
    "        if 1 <= new_gear <=5:\n",
    "            self.gear = new_gear\n",
    "            print(f\"The {self.make} of {self.model} has ignited {self.gear}\")\n",
    "        else:\n",
    "            print(\"Incorrect gear changed\")\n",
    "my_car=simulation_Ent(\"Mercedes benz\",\"E_classic\",0,1)\n",
    "my_car.acceralation(100)\n",
    "my_car.change_gear(5)\n",
    "my_car.brake(10)"
   ]
  },
  {
   "cell_type": "code",
   "execution_count": 28,
   "id": "c8da6d82",
   "metadata": {},
   "outputs": [
    {
     "ename": "SyntaxError",
     "evalue": "incomplete input (665315376.py, line 1)",
     "output_type": "error",
     "traceback": [
      "\u001b[1;36m  Cell \u001b[1;32mIn[28], line 1\u001b[1;36m\u001b[0m\n\u001b[1;33m    class fun_time(my_car):\u001b[0m\n\u001b[1;37m                           ^\u001b[0m\n\u001b[1;31mSyntaxError\u001b[0m\u001b[1;31m:\u001b[0m incomplete input\n"
     ]
    }
   ],
   "source": [
    "class fun_time(my_car):"
   ]
  },
  {
   "cell_type": "code",
   "execution_count": null,
   "id": "e2d35af9",
   "metadata": {},
   "outputs": [],
   "source": [
    "## Problem: Fuel Efficiency Calculation\n",
    "\n",
    "## In your car simulation, you have a Car class with attributes like make, model, year, color, and speed. \n",
    "## Now, extend the Car class to include attributes for fuel efficiency (miles per gallon) and fuel level (in gallons). \n",
    "## Implement methods to:\n",
    "\n",
    "## Simulate driving the car, which reduces the fuel level based on the distance traveled.\n",
    "## Calculate and display the remaining fuel level after a certain distance.\n",
    "## Create an instance of the Car class, set the fuel efficiency and fuel level, and simulate driving the car to \n",
    "## calculate the remaining fuel after driving a specific distance."
   ]
  },
  {
   "cell_type": "code",
   "execution_count": 37,
   "id": "15de8383",
   "metadata": {},
   "outputs": [
    {
     "name": "stdout",
     "output_type": "stream",
     "text": [
      " Toyota  is Prado in year 2021 and color Black speed 0\n",
      " The Toyota of Prado is activated in <bound method fuel_efficiency_calculation.fuel_effiency of <__main__.fuel_efficiency_calculation object at 0x000002084DE5EE10>>\n"
     ]
    }
   ],
   "source": [
    "class fuel_efficiency_calculation:\n",
    "    def __init__(self,make,model,year,color,speed,gear):\n",
    "        self.make= make\n",
    "        self.model= model\n",
    "        self.year= year\n",
    "        self.color= color\n",
    "        self.speed= 0\n",
    "        self.gear= 1\n",
    "        self.fuel_efficiency= 100\n",
    "    def property_car(self):\n",
    "        print(f\" {self.make}  is {self.model} in year {self.year} and color {self.color} speed {self.speed}\")\n",
    "    def acceleration(self, amount):\n",
    "        amount += self.speed\n",
    "        print(f\" The {self.make} of {self.model} ignited acceration of {self.speed}\")\n",
    "    def brake(self, amount):\n",
    "        self.speed -= amount\n",
    "        if self.speed < 0:\n",
    "            self.speed = 0\n",
    "            print(f\" The {self.make} of {self.model} has stopped in {self.speed}\")\n",
    "    def fuel_effiency(self, usage):\n",
    "        if 20 <= usage <= 100:\n",
    "            usage = self.fuel_efficiency\n",
    "            print(f\" The {self.make} of {self.model} is activated in {self.fuel_effiency}\")\n",
    "        elif self.fuel_efficiency < 50:\n",
    "            print(f\" The {self.make} is average in {self.fuel_efficiency}\")\n",
    "        elif self.fuel_efficiency < 20:\n",
    "            print(f\" The {self.make} is low in {self.fuel_effiency} refuel soon\")\n",
    "        else:\n",
    "                  print('You have a full Tank continue with your journey.')\n",
    "                  \n",
    "my_car1=fuel_efficiency_calculation(\"Toyota\",\"Prado\",\"2021\",\"Black\",\"200mah\",1)\n",
    "my_car1.property_car()\n",
    "my_car1.fuel_effiency(50)"
   ]
  },
  {
   "cell_type": "code",
   "execution_count": 38,
   "id": "48e49bbe",
   "metadata": {},
   "outputs": [
    {
     "name": "stdout",
     "output_type": "stream",
     "text": [
      "Black 2021 Toyota Prado\n"
     ]
    },
    {
     "ename": "TypeError",
     "evalue": "'int' object is not callable",
     "output_type": "error",
     "traceback": [
      "\u001b[1;31m---------------------------------------------------------------------------\u001b[0m",
      "\u001b[1;31mTypeError\u001b[0m                                 Traceback (most recent call last)",
      "Cell \u001b[1;32mIn[38], line 35\u001b[0m\n\u001b[0;32m     33\u001b[0m my_car1 \u001b[38;5;241m=\u001b[39m Car(\u001b[38;5;124m\"\u001b[39m\u001b[38;5;124mToyota\u001b[39m\u001b[38;5;124m\"\u001b[39m, \u001b[38;5;124m\"\u001b[39m\u001b[38;5;124mPrado\u001b[39m\u001b[38;5;124m\"\u001b[39m, \u001b[38;5;124m\"\u001b[39m\u001b[38;5;124m2021\u001b[39m\u001b[38;5;124m\"\u001b[39m, \u001b[38;5;124m\"\u001b[39m\u001b[38;5;124mBlack\u001b[39m\u001b[38;5;124m\"\u001b[39m, \u001b[38;5;241m50\u001b[39m)\n\u001b[0;32m     34\u001b[0m my_car1\u001b[38;5;241m.\u001b[39mproperty_car()\n\u001b[1;32m---> 35\u001b[0m my_car1\u001b[38;5;241m.\u001b[39mfuel_efficiency(\u001b[38;5;241m50\u001b[39m)\n",
      "\u001b[1;31mTypeError\u001b[0m: 'int' object is not callable"
     ]
    }
   ],
   "source": [
    "class Car:\n",
    "    def __init__(self, make, model, year, color, fuel_efficiency):\n",
    "        self.make = make\n",
    "        self.model = model\n",
    "        self.year = year\n",
    "        self.color = color\n",
    "        self.speed = 0\n",
    "        self.fuel_efficiency = fuel_efficiency  # miles per gallon\n",
    "\n",
    "    def property_car(self):\n",
    "        print(f\"{self.color} {self.year} {self.make} {self.model}\")\n",
    "\n",
    "    def acceleration(self, amount):\n",
    "        self.speed += amount\n",
    "        print(f\"The {self.make} {self.model} accelerated to {self.speed} mph.\")\n",
    "\n",
    "    def brake(self, amount):\n",
    "        self.speed -= amount\n",
    "        if self.speed < 0:\n",
    "            self.speed = 0\n",
    "        print(f\"The {self.make} {self.model} slowed down to {self.speed} mph.\")\n",
    "\n",
    "    def fuel_efficiency(self, usage):\n",
    "        if 20 <= usage <= 100:\n",
    "            print(f\"The {self.make} {self.model} has a good fuel efficiency of {self.fuel_efficiency} mpg.\")\n",
    "        elif 10 <= usage < 20:\n",
    "            print(f\"The {self.make} {self.model} has an average fuel efficiency of {self.fuel_efficiency} mpg.\")\n",
    "        elif usage < 10:\n",
    "            print(f\"The {self.make} {self.model} has low fuel efficiency of {self.fuel_efficiency} mpg. Consider refueling.\")\n",
    "        else:\n",
    "            print(\"You have a full tank. Continue your journey.\")\n",
    "\n",
    "my_car1 = Car(\"Toyota\", \"Prado\", \"2021\", \"Black\", 50)\n",
    "my_car1.property_car()\n",
    "my_car1.fuel_efficiency(50)"
   ]
  },
  {
   "cell_type": "code",
   "execution_count": null,
   "id": "fec553bf",
   "metadata": {},
   "outputs": [],
   "source": [
    "check_balance,withdraw,deposit,request_atm)"
   ]
  },
  {
   "cell_type": "code",
   "execution_count": null,
   "id": "038f0cff",
   "metadata": {},
   "outputs": [
    {
     "name": "stdout",
     "output_type": "stream",
     "text": [
      "\n",
      " 1:check balance \n",
      "2: deposit\n",
      "3: withdrawal\n",
      "4: Exit\n",
      "choose from one of the option (1/2/3/4)2\n",
      "How much do want to deposit20000\n",
      " Your deposit of $20000.0 is now 1020000.0\n",
      "\n",
      " 1:check balance \n",
      "2: deposit\n",
      "3: withdrawal\n",
      "4: Exit\n"
     ]
    }
   ],
   "source": [
    "## modification of Atm \n",
    "class atm:\n",
    "    def __init__(self, balance):\n",
    "        self.balance= balance\n",
    "    def check_balance(self):\n",
    "        print(f\" your balance is {self.balance}\")\n",
    "    def deposit(self, amount):\n",
    "        self.balance += amount\n",
    "        return f\" Your deposit of ${amount} is now {self.balance}\"\n",
    "    def withdrawal(self, amount):\n",
    "        if self.balance <= amount:\n",
    "            amount -= self.balance\n",
    "            return f\" Your withdrawal of {amount} is successful balance is {self.balance}\"\n",
    "    def request_atm(self):\n",
    "        print(f' YOUR ATM WILL ARRIVE SOON')\n",
    "            \n",
    "my_atm= atm(1000000)\n",
    "while True:\n",
    "    print(\"\\n 1:check balance \")\n",
    "    print(\"2: deposit\")\n",
    "    print(\"3: withdrawal\")\n",
    "    print(\"4: Exit\")\n",
    "    \n",
    "    \n",
    "    choice= input(\"choose from one of the option (1/2/3/4)\")\n",
    "    if  choice == \"1\":\n",
    "        print(f\" your balance for this is {my_atm.check_balance()}\")\n",
    "    elif choice == \"2\":\n",
    "        amount= float(input(\"How much do want to deposit\"))\n",
    "        print(my_atm.deposit(amount))\n",
    "    elif choice == \"3\":\n",
    "        amount= float(input(\"How much do want to withdraw\"))\n",
    "        print(my_atm.withdraw(amount))\n",
    "    elif choice == \"4\":\n",
    "        print(f\" Have a beautifull day!!!\")\n",
    "        break\n",
    "    else:\n",
    "         print(\"incorrect option, THANK YOU !!\")     "
   ]
  },
  {
   "cell_type": "code",
   "execution_count": 1,
   "id": "e85a6b1d",
   "metadata": {},
   "outputs": [
    {
     "ename": "IndentationError",
     "evalue": "unexpected indent (3128123484.py, line 2)",
     "output_type": "error",
     "traceback": [
      "\u001b[1;36m  Cell \u001b[1;32mIn[1], line 2\u001b[1;36m\u001b[0m\n\u001b[1;33m    def __init__(self, balance):\u001b[0m\n\u001b[1;37m    ^\u001b[0m\n\u001b[1;31mIndentationError\u001b[0m\u001b[1;31m:\u001b[0m unexpected indent\n"
     ]
    }
   ],
   "source": [
    "## class ATM:\n",
    "    def __init__(self, balance):\n",
    "        self.balance = balance\n",
    "\n",
    "    def check_balance(self):\n",
    "        return self.balance\n",
    "\n",
    "    def deposit(self, amount):\n",
    "        self.balance += amount\n",
    "        return f\"Deposited ${amount}. New balance: ${self.balance}\"\n",
    "\n",
    "    def withdraw(self, amount):\n",
    "        if amount <= self.balance:\n",
    "            self.balance -= amount\n",
    "            return f\"Withdrew ${amount}. New balance: ${self.balance}\"\n",
    "        else:\n",
    "            return \"Insufficient funds.\"\n",
    "\n",
    "# Create an instance of the ATM with an initial balance of $1000\n",
    "my_atm = ATM(1000)\n",
    "\n",
    "while True:\n",
    "    print(\"\\n1. Check Balance\")\n",
    "    print(\"2. Deposit\")\n",
    "    print(\"3. Withdraw\")\n",
    "    print(\"4. Exit\")\n",
    "\n",
    "    choice = input(\"Select an option (1/2/3/4): \")\n",
    "\n",
    "    if choice == \"1\":\n",
    "        print(f\"Current balance: ${my_atm.check_balance()}\")\n",
    "    elif choice == \"2\":\n",
    "        amount = float(input(\"Enter the deposit amount: $\"))\n",
    "        print(my_atm.deposit(amount))\n",
    "    elif choice == \"3\":\n",
    "        amount = float(input(\"Enter the withdrawal amount: $\"))\n",
    "        print(my_atm.withdraw(amount))\n",
    "    elif choice == \"4\":\n",
    "        print(\"Thank you. Have a nice day!\")\n",
    "        break\n",
    "    else:\n",
    "        print(\"Invalid choice. Please select a valid option.\")"
   ]
  },
  {
   "cell_type": "code",
   "execution_count": null,
   "id": "d02927af",
   "metadata": {},
   "outputs": [],
   "source": []
  }
 ],
 "metadata": {
  "kernelspec": {
   "display_name": "Python 3 (ipykernel)",
   "language": "python",
   "name": "python3"
  },
  "language_info": {
   "codemirror_mode": {
    "name": "ipython",
    "version": 3
   },
   "file_extension": ".py",
   "mimetype": "text/x-python",
   "name": "python",
   "nbconvert_exporter": "python",
   "pygments_lexer": "ipython3",
   "version": "3.11.5"
  }
 },
 "nbformat": 4,
 "nbformat_minor": 5
}
