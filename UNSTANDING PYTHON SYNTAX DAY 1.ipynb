{
 "cells": [
  {
   "cell_type": "code",
   "execution_count": null,
   "id": "17db434e",
   "metadata": {},
   "outputs": [],
   "source": [
    "## Understanding Python syntax is crucial for writing correct and functional Python programs. \n",
    "## Python has a clean and readable syntax that emphasizes readability and reduces the cost of program maintenance. \n",
    "## Here are some key aspects of Python syntax: "
   ]
  },
  {
   "cell_type": "markdown",
   "id": "fa743d17",
   "metadata": {},
   "source": [
    "## Note: use each day to treat each topics very well to student understanding."
   ]
  },
  {
   "cell_type": "code",
   "execution_count": null,
   "id": "8ead25d6",
   "metadata": {},
   "outputs": [],
   "source": [
    "## Indentation: Python uses indentation (whitespace) to define blocks of code. \n",
    "## This is in contrast to many other programming languages that use braces or other symbols. \n",
    "## Proper indentation is essential for Python to work correctly"
   ]
  },
  {
   "cell_type": "code",
   "execution_count": 2,
   "id": "4f668656",
   "metadata": {},
   "outputs": [
    {
     "name": "stdout",
     "output_type": "stream",
     "text": [
      "hello World\n"
     ]
    }
   ],
   "source": [
    "name= \"hello World\"\n",
    "print(name)## this is the identation which is in bracket()"
   ]
  },
  {
   "cell_type": "code",
   "execution_count": null,
   "id": "52338fd4",
   "metadata": {},
   "outputs": [],
   "source": [
    "## Comments: You can add comments to your code using the # symbol. \n",
    "## Comments are ignored by the Python interpreter and are used to explain the code."
   ]
  },
  {
   "cell_type": "code",
   "execution_count": 4,
   "id": "6f76b9ca",
   "metadata": {},
   "outputs": [
    {
     "name": "stdout",
     "output_type": "stream",
     "text": [
      "i am a boy, i live in gwarinpa\n",
      "30\n"
     ]
    }
   ],
   "source": [
    "## Variables: You can create variables to store data. Python is dynamically typed, \n",
    "## which means you don't need to declare the data type of a variable.\n",
    "### is like human being that is being called by they name.\n",
    "## examples.\n",
    "## name= ##( this is a variable name called name: in this case you can used it for any function at all.)\n",
    "## examples :\n",
    "name = \"i am a boy, i live in gwarinpa\"\n",
    "age= 30 \n",
    "print(name)\n",
    "print(age)"
   ]
  },
  {
   "cell_type": "code",
   "execution_count": null,
   "id": "1444ec3a",
   "metadata": {},
   "outputs": [],
   "source": [
    "### Data_types(Data Types: Python supports various data types, including integers,\n",
    "## floats, strings, lists, dictionaries, and more.)\n",
    "## this are very essential for you to know.\n",
    "number = 42 ## (this are calleed intergers.)\n",
    "price = 19.99 ##(this are called floats.)\n",
    "greeting = \"Hello, World!\" ## (\" \" anything in between this colons like this are called strings.)"
   ]
  },
  {
   "cell_type": "code",
   "execution_count": null,
   "id": "fa56b7e8",
   "metadata": {},
   "outputs": [],
   "source": [
    "## Operators: Python has a variety of operators for performing operations on variables \n",
    "## and values, such as arithmetic, comparison, and logical operators.\n",
    "## examples are:\n",
    "## result = 5 + 3\n",
    "## is_equal = (5 == 3)"
   ]
  },
  {
   "cell_type": "markdown",
   "id": "10702827",
   "metadata": {},
   "source": [
    "## NOTE: there are more examples for each operators so research on them."
   ]
  },
  {
   "cell_type": "code",
   "execution_count": 6,
   "id": "8b2e6a55",
   "metadata": {},
   "outputs": [
    {
     "name": "stdout",
     "output_type": "stream",
     "text": [
      "11\n"
     ]
    }
   ],
   "source": [
    "result= 5+6\n",
    "print(result) ## This is using variables to for operators "
   ]
  },
  {
   "cell_type": "code",
   "execution_count": null,
   "id": "1a2e2d90",
   "metadata": {},
   "outputs": [],
   "source": [
    "## Conditional Statements: Python uses if, elif, and else for conditional branching.\n",
    "## learning about the conditional statements and usefulness in the coding aspest."
   ]
  },
  {
   "cell_type": "code",
   "execution_count": null,
   "id": "d91be1e8",
   "metadata": {},
   "outputs": [],
   "source": [
    "## Loops: Python supports for and while loops for iterating through sequences and performing repetitive tasks.\n",
    "## this is understanding the while loop and for loop and how they are beeing used in coding."
   ]
  },
  {
   "cell_type": "code",
   "execution_count": 22,
   "id": "70c61c12",
   "metadata": {},
   "outputs": [
    {
     "name": "stdout",
     "output_type": "stream",
     "text": [
      "cherry\n",
      "banana\n",
      "Rice\n"
     ]
    }
   ],
   "source": [
    "food_list= [\"cherry\",\"banana\",\"Rice\",\"vegetables\",\"Oranges\"]\n",
    "for item in food_list:\n",
    "    if item == \"vegetables\":\n",
    "        break\n",
    "    print(item) ## so thats is one example of a loop in python syntax "
   ]
  },
  {
   "cell_type": "code",
   "execution_count": 23,
   "id": "e7392450",
   "metadata": {},
   "outputs": [
    {
     "name": "stdout",
     "output_type": "stream",
     "text": [
      "1 * 5= 5\n",
      "2 * 5= 10\n",
      "3 * 5= 15\n",
      "4 * 5= 20\n",
      "5 * 5= 25\n",
      "6 * 5= 30\n",
      "7 * 5= 35\n",
      "8 * 5= 40\n",
      "9 * 5= 45\n",
      "10 * 5= 50\n",
      "11 * 5= 55\n",
      "12 * 5= 60\n"
     ]
    }
   ],
   "source": [
    "## example of a for loop\n",
    "## mutiplication table \n",
    "number= 5\n",
    "for i in range(1,13):\n",
    "    result= i * number\n",
    "    print(f\"{i} * {number}= {result}\")"
   ]
  },
  {
   "cell_type": "code",
   "execution_count": null,
   "id": "697e038a",
   "metadata": {},
   "outputs": [],
   "source": [
    "Functions: You can define functions to encapsulate reusable blocks of code.\n",
    "Copy code\n",
    "def greet(name):\n",
    "    return \"Hello, \" + name"
   ]
  },
  {
   "cell_type": "code",
   "execution_count": 26,
   "id": "a50836d1",
   "metadata": {},
   "outputs": [
    {
     "name": "stdout",
     "output_type": "stream",
     "text": [
      " We love Buddy\n"
     ]
    }
   ],
   "source": [
    "## Classes and Objects:Python is an object-oriented language, \n",
    "## so you can define classes and create objects from those classes.\n",
    "class Dog:\n",
    "    def __init__(self, name):\n",
    "        self.name = name\n",
    "        print(f\" We love {self.name}\")\n",
    "\n",
    "my_dog = Dog(\"Buddy\")"
   ]
  },
  {
   "cell_type": "code",
   "execution_count": null,
   "id": "cbb7d34d",
   "metadata": {},
   "outputs": [],
   "source": [
    "## Modules and Libraries: Python has a vast standard library and external libraries. \n",
    "## You can use modules to organize your code and extend Python's functionality.\n",
    "## import math\n",
    "##result = math.sqrt(25) AND MANY MORE LIBRARIES."
   ]
  },
  {
   "cell_type": "code",
   "execution_count": null,
   "id": "ae0e5fd5",
   "metadata": {},
   "outputs": [],
   "source": [
    "## File Handling: You can work with files by opening, reading, writing, and closing them.\n",
    "## with open(\"myfile.txt\", \"r\") as file:\n",
    "## content = file.read() READING IN FILE AND EXPORTING THEM"
   ]
  },
  {
   "cell_type": "code",
   "execution_count": null,
   "id": "cd0d8f5a",
   "metadata": {},
   "outputs": [],
   "source": []
  }
 ],
 "metadata": {
  "kernelspec": {
   "display_name": "Python 3 (ipykernel)",
   "language": "python",
   "name": "python3"
  },
  "language_info": {
   "codemirror_mode": {
    "name": "ipython",
    "version": 3
   },
   "file_extension": ".py",
   "mimetype": "text/x-python",
   "name": "python",
   "nbconvert_exporter": "python",
   "pygments_lexer": "ipython3",
   "version": "3.11.5"
  }
 },
 "nbformat": 4,
 "nbformat_minor": 5
}
