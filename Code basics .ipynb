{
 "cells": [
  {
   "cell_type": "markdown",
   "id": "3bec381d",
   "metadata": {},
   "source": [
    "## SET AND FROZEN SETS "
   ]
  },
  {
   "cell_type": "code",
   "execution_count": 2,
   "id": "9dd31e02",
   "metadata": {},
   "outputs": [
    {
     "data": {
      "text/plain": [
       "list"
      ]
     },
     "execution_count": 2,
     "metadata": {},
     "output_type": "execute_result"
    }
   ],
   "source": [
    "basket=[\"mango\",\"pineapple\",\"oranges\",\"orange\",\"pine apple\",\"apple\"]### list \n",
    "type(basket)"
   ]
  },
  {
   "cell_type": "code",
   "execution_count": 3,
   "id": "2e9e7b0c",
   "metadata": {},
   "outputs": [],
   "source": [
    "## difference between list and set \n",
    "## list is ordered between index \n",
    "## list allow duplicate item inside of them \n",
    "## You can access elements in a list by index. For example, my_list[0] gives you the first element of the list.\n",
    "## Lists are used when you need an ordered collection with duplicates, and you want to access elements by their position.\n",
    "## its represnt with this bracket []\n",
    "## set\n",
    "## Sets are unordered collections. They do not maintain any specific order, and you cannot access elements by index.\n",
    "## Sets do not allow duplicate elements. If you try to add an element that's already in the set, it won't be added again.\n",
    "## Sets do not support indexing because they are unordered. You can only check if an element is in the set or iterate over its elements.\n",
    "## Sets are used when you need a collection of unique items, and you don't care about the order.\n",
    "## sets are represented with this {}"
   ]
  },
  {
   "cell_type": "code",
   "execution_count": 9,
   "id": "0f870770",
   "metadata": {},
   "outputs": [
    {
     "name": "stdout",
     "output_type": "stream",
     "text": [
      "['boy', 'girl', 'manager', 'team leader', 'secatary', 'officer']\n",
      "{'business_manger', 'loan_man', 'officer', 'manager'}\n"
     ]
    }
   ],
   "source": [
    "my_list=[\"boy\",\"girl\",\"manager\",\"team leader\",\"secatary\",\"officer\"]\n",
    "my_set={\"business_manger\",\"officer\",\"manager\",\"loan_man\"}\n",
    "print(my_list)\n",
    "print(my_set)\n"
   ]
  },
  {
   "cell_type": "code",
   "execution_count": 11,
   "id": "193efb11",
   "metadata": {},
   "outputs": [
    {
     "data": {
      "text/plain": [
       "set"
      ]
     },
     "execution_count": 11,
     "metadata": {},
     "output_type": "execute_result"
    }
   ],
   "source": [
    "type(my_list)\n",
    "type(my_set)"
   ]
  },
  {
   "cell_type": "code",
   "execution_count": 17,
   "id": "ee1122c3",
   "metadata": {},
   "outputs": [
    {
     "data": {
      "text/plain": [
       "{'apple', 'mango', 'orange', 'pine apple'}"
      ]
     },
     "execution_count": 17,
     "metadata": {},
     "output_type": "execute_result"
    }
   ],
   "source": [
    "basket={\"mango\",\"pine apple\",\"orange\",\"orange\",\"pine apple\",\"apple\"} \n",
    "type(basket)\n",
    "basket"
   ]
  },
  {
   "cell_type": "code",
   "execution_count": 18,
   "id": "5eef8d35",
   "metadata": {},
   "outputs": [
    {
     "data": {
      "text/plain": [
       "{1, 2, 3, 4, 5, 6, 7, 8, 10}"
      ]
     },
     "execution_count": 18,
     "metadata": {},
     "output_type": "execute_result"
    }
   ],
   "source": [
    "### list input\n",
    "numbers=[1,2,3,3,4,5,6,7,8,10]\n",
    "unique_numbers=set(numbers)\n",
    "unique_numbers"
   ]
  },
  {
   "cell_type": "code",
   "execution_count": 20,
   "id": "29a12c19",
   "metadata": {},
   "outputs": [
    {
     "data": {
      "text/plain": [
       "{1, 2, 3, 4, 5, 6, 7, 8, 10, 39}"
      ]
     },
     "execution_count": 20,
     "metadata": {},
     "output_type": "execute_result"
    }
   ],
   "source": [
    "unique_numbers.add(39)\n",
    "unique_numbers"
   ]
  },
  {
   "cell_type": "code",
   "execution_count": 21,
   "id": "b74a583d",
   "metadata": {},
   "outputs": [
    {
     "data": {
      "text/plain": [
       "frozenset({1, 2, 3, 4, 5, 6, 7, 8, 10})"
      ]
     },
     "execution_count": 21,
     "metadata": {},
     "output_type": "execute_result"
    }
   ],
   "source": [
    "fs=frozenset(numbers)## frozen set can let you add any other number to set or manipulate the set\n",
    "fs"
   ]
  },
  {
   "cell_type": "code",
   "execution_count": 23,
   "id": "1126fb45",
   "metadata": {},
   "outputs": [
    {
     "ename": "AttributeError",
     "evalue": "'frozenset' object has no attribute 'add'",
     "output_type": "error",
     "traceback": [
      "\u001b[1;31m---------------------------------------------------------------------------\u001b[0m",
      "\u001b[1;31mAttributeError\u001b[0m                            Traceback (most recent call last)",
      "Cell \u001b[1;32mIn[23], line 1\u001b[0m\n\u001b[1;32m----> 1\u001b[0m fs\u001b[38;5;241m.\u001b[39madd(\u001b[38;5;241m90\u001b[39m)\n",
      "\u001b[1;31mAttributeError\u001b[0m: 'frozenset' object has no attribute 'add'"
     ]
    }
   ],
   "source": [
    "fs.add(90)"
   ]
  },
  {
   "cell_type": "code",
   "execution_count": 30,
   "id": "68195156",
   "metadata": {},
   "outputs": [
    {
     "name": "stdout",
     "output_type": "stream",
     "text": [
      "x\n",
      "b\n",
      "v\n",
      "c\n",
      "f\n"
     ]
    }
   ],
   "source": [
    "x={\"x\",\"b\",\"c\",\"f\",\"v\"}\n",
    "for i in x:\n",
    "    print(i)"
   ]
  },
  {
   "cell_type": "code",
   "execution_count": 38,
   "id": "8c95fa57",
   "metadata": {},
   "outputs": [
    {
     "data": {
      "text/plain": [
       "False"
      ]
     },
     "execution_count": 38,
     "metadata": {},
     "output_type": "execute_result"
    }
   ],
   "source": [
    "x={\"x\",\"b\",\"c\",\"f\",\"v\"}\n",
    "y={\"l\",\"c\",\"k\",\"b\",\"c\",\"f\",\"v\"}\n",
    "x|y ## The union between X,y (add all together)\n",
    "x&y ## intersaction between x,y (relationship between them)\n",
    "x-y\n",
    "x<y\n",
    "x>y"
   ]
  },
  {
   "cell_type": "markdown",
   "id": "8a4dd360",
   "metadata": {},
   "source": [
    "### cprofiling timing "
   ]
  },
  {
   "cell_type": "code",
   "execution_count": 85,
   "id": "12a39713",
   "metadata": {},
   "outputs": [
    {
     "name": "stdout",
     "output_type": "stream",
     "text": [
      " i love my dad Divine so much and i look forward for his achievement and i enjoy my mom Lovina food is delicious, she is lovely and beautiful\n",
      "         2 function calls in 0.000 seconds\n",
      "\n",
      "   Ordered by: standard name\n",
      "\n",
      "   ncalls  tottime  percall  cumtime  percall filename:lineno(function)\n",
      "        1    0.000    0.000    0.000    0.000 {built-in method builtins.exec}\n",
      "        1    0.000    0.000    0.000    0.000 {method 'disable' of '_lsprof.Profiler' objects}\n",
      "\n",
      "\n"
     ]
    },
    {
     "ename": "TypeError",
     "evalue": "exec() arg 1 must be a string, bytes or code object",
     "output_type": "error",
     "traceback": [
      "\u001b[1;31m---------------------------------------------------------------------------\u001b[0m",
      "\u001b[1;31mTypeError\u001b[0m                                 Traceback (most recent call last)",
      "Cell \u001b[1;32mIn[85], line 15\u001b[0m\n\u001b[0;32m     12\u001b[0m     \u001b[38;5;28;01mreturn\u001b[39;00m\n\u001b[0;32m     14\u001b[0m \u001b[38;5;28;01mif\u001b[39;00m \u001b[38;5;18m__name__\u001b[39m \u001b[38;5;241m==\u001b[39m \u001b[38;5;124m'\u001b[39m\u001b[38;5;124m__main__\u001b[39m\u001b[38;5;124m'\u001b[39m:\n\u001b[1;32m---> 15\u001b[0m     cProfile\u001b[38;5;241m.\u001b[39mrun(son(\u001b[38;5;124m\"\u001b[39m\u001b[38;5;124mDivine\u001b[39m\u001b[38;5;124m\"\u001b[39m,\u001b[38;5;124m\"\u001b[39m\u001b[38;5;124mLovina\u001b[39m\u001b[38;5;124m\"\u001b[39m))\u001b[38;5;66;03m## end the code here at the end of any function or class \u001b[39;00m\n\u001b[0;32m     16\u001b[0m s\u001b[38;5;241m=\u001b[39mson(\u001b[38;5;124m\"\u001b[39m\u001b[38;5;124mDivine\u001b[39m\u001b[38;5;124m\"\u001b[39m,\u001b[38;5;124m\"\u001b[39m\u001b[38;5;124mLovina\u001b[39m\u001b[38;5;124m\"\u001b[39m)\n\u001b[0;32m     17\u001b[0m s\u001b[38;5;241m=\u001b[39mmother()\n",
      "File \u001b[1;32m~\\anaconda3\\Lib\\cProfile.py:17\u001b[0m, in \u001b[0;36mrun\u001b[1;34m(statement, filename, sort)\u001b[0m\n\u001b[0;32m     16\u001b[0m \u001b[38;5;28;01mdef\u001b[39;00m \u001b[38;5;21mrun\u001b[39m(statement, filename\u001b[38;5;241m=\u001b[39m\u001b[38;5;28;01mNone\u001b[39;00m, sort\u001b[38;5;241m=\u001b[39m\u001b[38;5;241m-\u001b[39m\u001b[38;5;241m1\u001b[39m):\n\u001b[1;32m---> 17\u001b[0m     \u001b[38;5;28;01mreturn\u001b[39;00m _pyprofile\u001b[38;5;241m.\u001b[39m_Utils(Profile)\u001b[38;5;241m.\u001b[39mrun(statement, filename, sort)\n",
      "File \u001b[1;32m~\\anaconda3\\Lib\\profile.py:54\u001b[0m, in \u001b[0;36m_Utils.run\u001b[1;34m(self, statement, filename, sort)\u001b[0m\n\u001b[0;32m     52\u001b[0m prof \u001b[38;5;241m=\u001b[39m \u001b[38;5;28mself\u001b[39m\u001b[38;5;241m.\u001b[39mprofiler()\n\u001b[0;32m     53\u001b[0m \u001b[38;5;28;01mtry\u001b[39;00m:\n\u001b[1;32m---> 54\u001b[0m     prof\u001b[38;5;241m.\u001b[39mrun(statement)\n\u001b[0;32m     55\u001b[0m \u001b[38;5;28;01mexcept\u001b[39;00m \u001b[38;5;167;01mSystemExit\u001b[39;00m:\n\u001b[0;32m     56\u001b[0m     \u001b[38;5;28;01mpass\u001b[39;00m\n",
      "File \u001b[1;32m~\\anaconda3\\Lib\\cProfile.py:96\u001b[0m, in \u001b[0;36mProfile.run\u001b[1;34m(self, cmd)\u001b[0m\n\u001b[0;32m     94\u001b[0m \u001b[38;5;28;01mimport\u001b[39;00m \u001b[38;5;21;01m__main__\u001b[39;00m\n\u001b[0;32m     95\u001b[0m \u001b[38;5;28mdict\u001b[39m \u001b[38;5;241m=\u001b[39m __main__\u001b[38;5;241m.\u001b[39m\u001b[38;5;18m__dict__\u001b[39m\n\u001b[1;32m---> 96\u001b[0m \u001b[38;5;28;01mreturn\u001b[39;00m \u001b[38;5;28mself\u001b[39m\u001b[38;5;241m.\u001b[39mrunctx(cmd, \u001b[38;5;28mdict\u001b[39m, \u001b[38;5;28mdict\u001b[39m)\n",
      "File \u001b[1;32m~\\anaconda3\\Lib\\cProfile.py:101\u001b[0m, in \u001b[0;36mProfile.runctx\u001b[1;34m(self, cmd, globals, locals)\u001b[0m\n\u001b[0;32m     99\u001b[0m \u001b[38;5;28mself\u001b[39m\u001b[38;5;241m.\u001b[39menable()\n\u001b[0;32m    100\u001b[0m \u001b[38;5;28;01mtry\u001b[39;00m:\n\u001b[1;32m--> 101\u001b[0m     exec(cmd, \u001b[38;5;28mglobals\u001b[39m, \u001b[38;5;28mlocals\u001b[39m)\n\u001b[0;32m    102\u001b[0m \u001b[38;5;28;01mfinally\u001b[39;00m:\n\u001b[0;32m    103\u001b[0m     \u001b[38;5;28mself\u001b[39m\u001b[38;5;241m.\u001b[39mdisable()\n",
      "\u001b[1;31mTypeError\u001b[0m: exec() arg 1 must be a string, bytes or code object"
     ]
    }
   ],
   "source": [
    "## Timing in datascience(decorators) \n",
    "## cprofiling:cProfile: This is a built-in module in Python that provides a way to profile your code. \n",
    "## You can use it to measure the time each \n",
    "## function or method takes to execute. Here's a basic example of how to use cProfile:\n",
    "import cProfile ## import this at the beginning\n",
    "def father():\n",
    "    print(\"professionality Am a data scientist and also a forex trader\")\n",
    "def mother():\n",
    "    print(\"Am self employed business owner in d.queens enterprises.\")\n",
    "def son(father,mother):\n",
    "    print(f\" i love my dad {father} so much and i look forward for his achievement and i enjoy my mom {mother} food is delicious, she is lovely and beautiful\")\n",
    "    return\n",
    "\n",
    "if __name__ == '__main__':\n",
    "    cProfile.run(son(\"Divine\",\"Lovina\"))## end the code here at the end of any function or class \n",
    "s=son(\"Divine\",\"Lovina\")\n",
    "s=mother()\n",
    "s=father()"
   ]
  },
  {
   "cell_type": "code",
   "execution_count": 91,
   "id": "e8f484a3",
   "metadata": {},
   "outputs": [
    {
     "name": "stdout",
     "output_type": "stream",
     "text": [
      "find the square\n",
      "square: 1\n",
      "square: 4\n",
      "square: 9\n",
      "square: 9\n",
      "square: 16\n",
      "square: 25\n",
      "square: 36\n",
      "square: 49\n",
      "square: 64\n",
      "square: 100\n",
      "find the cube:\n",
      "cube: 1\n",
      "cube: 8\n",
      "cube: 27\n",
      "cube: 27\n",
      "cube: 64\n",
      "cube: 125\n",
      "cube: 216\n",
      "cube: 343\n",
      "cube: 512\n",
      "cube: 1000\n",
      "All done : 4.013782262802124\n",
      "loving code\n"
     ]
    }
   ],
   "source": [
    "### multi_threading\n",
    "import time\n",
    "import threading\n",
    "def calc_processing(number):\n",
    "    print('find the square')\n",
    "    for n in numbers:\n",
    "        time.sleep(0.2)\n",
    "        print('square:',n*n)\n",
    "        \n",
    "def cube_list(number):\n",
    "    print(\"find the cube:\")\n",
    "    for n in numbers:\n",
    "        time.sleep(0.2)\n",
    "        print('cube:', n*n*n)\n",
    "        \n",
    "arr=[1,2,4,5,10]\n",
    "t=time.time()\n",
    "calc_processing(arr)\n",
    "cube_list(arr)\n",
    "\n",
    "\n",
    "print(\"All done :\", time.time()-t)\n",
    "print(\"loving code\")"
   ]
  },
  {
   "cell_type": "code",
   "execution_count": null,
   "id": "c0b9cdb3",
   "metadata": {},
   "outputs": [],
   "source": [
    "### MUTIPROCESSING"
   ]
  },
  {
   "cell_type": "code",
   "execution_count": 106,
   "id": "7669f199",
   "metadata": {},
   "outputs": [
    {
     "name": "stdout",
     "output_type": "stream",
     "text": [
      "done\n"
     ]
    }
   ],
   "source": [
    "import multiprocessing\n",
    "def square_house(numbers):\n",
    "    for n in numbers:\n",
    "        print(\"square\", +str (n*n))\n",
    "        \n",
    "def cube_house(numbers):\n",
    "    for n in numbers:\n",
    "        print(\"Cubes\", +str(n*n*n))\n",
    "        \n",
    "if __name__ == \"__main__\":\n",
    "    arr=[1,2,3,4,5,6,10,20]\n",
    "    p1=multiprocessing.Process(target=square_house, args=(arr,))\n",
    "    p2=multiprocessing.Process(target=cube_house, args=(arr,))\n",
    "    \n",
    "    \n",
    "    p1.start()\n",
    "    p2.start()\n",
    "    \n",
    "    p1.join()\n",
    "    p2.join()\n",
    "    \n",
    "    print('done')\n",
    "    "
   ]
  },
  {
   "cell_type": "code",
   "execution_count": null,
   "id": "365459f5",
   "metadata": {},
   "outputs": [],
   "source": []
  }
 ],
 "metadata": {
  "kernelspec": {
   "display_name": "Python 3 (ipykernel)",
   "language": "python",
   "name": "python3"
  },
  "language_info": {
   "codemirror_mode": {
    "name": "ipython",
    "version": 3
   },
   "file_extension": ".py",
   "mimetype": "text/x-python",
   "name": "python",
   "nbconvert_exporter": "python",
   "pygments_lexer": "ipython3",
   "version": "3.11.5"
  }
 },
 "nbformat": 4,
 "nbformat_minor": 5
}
