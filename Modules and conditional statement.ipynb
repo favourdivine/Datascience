{
 "cells": [
  {
   "cell_type": "code",
   "execution_count": null,
   "id": "7d56006e",
   "metadata": {},
   "outputs": [],
   "source": [
    "## Modules:\n",
    "## A module in programming is a separate file that contains Python code. These files can define functions, variables, and classes that can be reused in other Python programs.\n",
    "## Modules help in organizing code and making it more readable and maintainable.\n",
    "## You can create your own modules or use Python's built-in modules."
   ]
  },
  {
   "cell_type": "code",
   "execution_count": null,
   "id": "941cc88c",
   "metadata": {},
   "outputs": [],
   "source": [
    "## Conditional Statements:\n",
    "## Conditional statements are used in programming to make decisions. They allow you to execute different code blocks based on whether a condition is True or False.\n",
    "## The most common conditional statements are if, elif (short for \"else if\"), and else.\n",
    "## You can also use logical operators like and, or, and not to combine conditions.\n"
   ]
  },
  {
   "cell_type": "code",
   "execution_count": null,
   "id": "c1611595",
   "metadata": {},
   "outputs": [],
   "source": []
  },
  {
   "cell_type": "raw",
   "id": "dc75361f",
   "metadata": {},
   "source": []
  },
  {
   "cell_type": "code",
   "execution_count": null,
   "id": "48126ded",
   "metadata": {},
   "outputs": [],
   "source": [
    "## Examples of conditional statement:\n",
    "## determing a laeap year \n",
    "# Step 1: Get the input from the user (the year)\n",
    "year = int(input(\"Enter a year: \"))\n",
    "\n",
    "# Step 2: Check if it's a leap year\n",
    "# Your conditional statements go here\n",
    "\n",
    "# Step 3: Display the result\n",
    "# Your print statement goes here"
   ]
  },
  {
   "cell_type": "code",
   "execution_count": null,
   "id": "7b10b952",
   "metadata": {},
   "outputs": [],
   "source": [
    "### Imagine you are building a program for an online shopping website.\n",
    "## You want to implement a discount system based on the total purchase amount. \n",
    "## Here's how you can use conditional statements:\n",
    "## In this scenario, you are using conditional statements (if-else) to \n",
    "##determine whether a discount should be applied based on the total purchase amount. \n",
    "##If the purchase amount is equal to or greater than $100, a 10% discount is applied. \n",
    "## Additionally, you check if the total purchase amount qualifies for free shipping, which is another conditional statement. \n",
    "## This is a common real-life application of conditional statements in e-commerce and retail."
   ]
  },
  {
   "cell_type": "code",
   "execution_count": 5,
   "id": "4b1b3e95",
   "metadata": {},
   "outputs": [
    {
     "name": "stdout",
     "output_type": "stream",
     "text": [
      "what is the total amount for your online shopping :$50\n",
      "nice shooping with your online shop more on our website50\n",
      " Congratulation you have free deliveery to your location\n"
     ]
    }
   ],
   "source": [
    "total_purchase=int(input(\"what is the total amount for your online shopping :$\"))\n",
    "if total_purchase >= 100:\n",
    "    discounted_total=0.10\n",
    "    discounted_total= total_purchase - (discounted_total*total_purchase)\n",
    "    print(f\"Congratulation our valid customer you had a discount of {discounted_total}\")\n",
    "else:\n",
    "    print(f\"nice shooping with your online shop more on our website{total_purchase}\")\n",
    "    \n",
    "if total_purchase >= 50:\n",
    "    print(f\" Congratulation you have free deliveery to your location\")"
   ]
  },
  {
   "cell_type": "code",
   "execution_count": 21,
   "id": "8b098a6c",
   "metadata": {},
   "outputs": [
    {
     "name": "stdout",
     "output_type": "stream",
     "text": [
      " Thank you for shopping with us, total carts is: $30\n",
      " THANK YOU FOR SHOPPING WITH US AMOUNT $30\n"
     ]
    }
   ],
   "source": [
    "##### let's try using class\n",
    "class life_shopping:\n",
    "    def __init__(self,total_shop):\n",
    "        self.shop= total_shop\n",
    "    def conditions(self):\n",
    "        if self.shop >= 100:\n",
    "            discounted_list=0.10\n",
    "            discounted_list= self.shop - (self.shop * discounted_list)\n",
    "            print(f\" Congratulation you have discount of {discounted_list} of {self.shop}\")\n",
    "        else:\n",
    "            print(f\" Thank you for shopping with us, total carts is: ${self.shop}\")\n",
    "            \n",
    "    def free_delivery(self):\n",
    "        if self.shop >= 50:\n",
    "            print(f\" CONGRATULATION YOU HAVE A FREE DELIVERY!!\")\n",
    "        else:\n",
    "            print(f\" THANK YOU FOR SHOPPING WITH US AMOUNT ${self.shop}\")\n",
    "logo_shopper=life_shopping(30)\n",
    "logo_shopper.conditions()\n",
    "logo_shopper.free_delivery()"
   ]
  },
  {
   "cell_type": "code",
   "execution_count": null,
   "id": "d75db52f",
   "metadata": {},
   "outputs": [],
   "source": [
    "## In this scenario, the program determines the admission cost based on the user's age and height. \n",
    "## Children under 3 enter for free, while children between 4 and 12 pay a reduced price. \n",
    "## Adults pay different rates depending on their height. Seniors aged 60 or above receive a discount. \n",
    "## This is a common real-life application of \n",
    "## conditional statements in the context of theme parks and recreational facilities."
   ]
  },
  {
   "cell_type": "code",
   "execution_count": null,
   "id": "f471fbca",
   "metadata": {},
   "outputs": [],
   "source": []
  }
 ],
 "metadata": {
  "kernelspec": {
   "display_name": "Python 3 (ipykernel)",
   "language": "python",
   "name": "python3"
  },
  "language_info": {
   "codemirror_mode": {
    "name": "ipython",
    "version": 3
   },
   "file_extension": ".py",
   "mimetype": "text/x-python",
   "name": "python",
   "nbconvert_exporter": "python",
   "pygments_lexer": "ipython3",
   "version": "3.11.5"
  }
 },
 "nbformat": 4,
 "nbformat_minor": 5
}
