{
 "cells": [
  {
   "cell_type": "markdown",
   "id": "3204dbf9",
   "metadata": {},
   "source": [
    "### Data structures"
   ]
  },
  {
   "cell_type": "code",
   "execution_count": 3,
   "id": "96d49fe7",
   "metadata": {},
   "outputs": [],
   "source": [
    "L=[1,3,4.9,\"name\",3]## this in a box bracket,can be modify,like adding,removing,and also allow duplicates\n",
    "T=(1,3,4.9,\"Name\",3)## turple in a curve bracket,This does not required any modification when created alraedy.\n",
    "s={1,3,4.9,\"Name\",3} ## set are in curly bracket, don't accept duplicate in them when coding with it.\n",
    "d={23:\"twentythree\",67:\"Gorgeous\",\"name\":45} ## the same but dic always have keys and value"
   ]
  },
  {
   "cell_type": "code",
   "execution_count": 4,
   "id": "7eb209f6",
   "metadata": {},
   "outputs": [
    {
     "name": "stdout",
     "output_type": "stream",
     "text": [
      "The type of L is <class 'list'>\n",
      "The type of T is <class 'tuple'>\n",
      "The type of s is <class 'set'>\n",
      "The type of d is <class 'dict'>\n"
     ]
    }
   ],
   "source": [
    "print(\"The type of L is\",type(L))\n",
    "print(\"The type of T is\", type(T))\n",
    "print(\"The type of s is\", type(s))\n",
    "print(\"The type of d is\", type(d))"
   ]
  },
  {
   "cell_type": "code",
   "execution_count": 12,
   "id": "bd9e8757",
   "metadata": {},
   "outputs": [
    {
     "name": "stdout",
     "output_type": "stream",
     "text": [
      "name\n",
      "Name\n",
      "True\n",
      "Gorgeous\n"
     ]
    }
   ],
   "source": [
    "print(L[3])\n",
    "print(T[3])\n",
    "print(3 in s)\n",
    "print(d[67])"
   ]
  },
  {
   "cell_type": "code",
   "execution_count": 13,
   "id": "68889d2a",
   "metadata": {},
   "outputs": [
    {
     "name": "stdout",
     "output_type": "stream",
     "text": [
      "{1, 3, 4.9, 'Name'}\n"
     ]
    }
   ],
   "source": [
    "print(s)"
   ]
  },
  {
   "cell_type": "code",
   "execution_count": null,
   "id": "613c26a6",
   "metadata": {},
   "outputs": [],
   "source": [
    "## List: Lists are mutable, which means you can change their elements (add, remove, or modify) after they are created.\n",
    "## Tuple: Tuples are immutable, which means you cannot change their elements once they are defined. \n",
    "## You can create a new tuple with the desired elements, but you cannot modify the existing tuple.\n",
    "\n",
    "## turple and list can be accessed in with index"
   ]
  },
  {
   "cell_type": "code",
   "execution_count": 15,
   "id": "6c849a92",
   "metadata": {},
   "outputs": [
    {
     "data": {
      "text/plain": [
       "[3, 3]"
      ]
     },
     "execution_count": 15,
     "metadata": {},
     "output_type": "execute_result"
    }
   ],
   "source": [
    "L[1::3]"
   ]
  },
  {
   "cell_type": "code",
   "execution_count": 16,
   "id": "9b3c151c",
   "metadata": {},
   "outputs": [
    {
     "data": {
      "text/plain": [
       "(3, 3)"
      ]
     },
     "execution_count": 16,
     "metadata": {},
     "output_type": "execute_result"
    }
   ],
   "source": [
    "T[::-3]"
   ]
  },
  {
   "cell_type": "code",
   "execution_count": 18,
   "id": "4c50e38a",
   "metadata": {},
   "outputs": [
    {
     "data": {
      "text/plain": [
       "[1,\n",
       " 3,\n",
       " 4.9,\n",
       " 'name',\n",
       " 3,\n",
       " 'come',\n",
       " 'backpack',\n",
       " 'Housing_home',\n",
       " 'Football',\n",
       " 'Good',\n",
       " 'come',\n",
       " 'backpack',\n",
       " 'Housing_home',\n",
       " 'Football',\n",
       " 'Good']"
      ]
     },
     "execution_count": 18,
     "metadata": {},
     "output_type": "execute_result"
    }
   ],
   "source": [
    "L= L +[\"come\",\"backpack\",\"Housing_home\",\"Football\",\"Good\"]\n",
    "L"
   ]
  },
  {
   "cell_type": "code",
   "execution_count": 22,
   "id": "d7a8dc15",
   "metadata": {},
   "outputs": [
    {
     "data": {
      "text/plain": [
       "[1,\n",
       " 3,\n",
       " 4.9,\n",
       " 'name',\n",
       " 3,\n",
       " 'come',\n",
       " 'backpack',\n",
       " 'Housing_home',\n",
       " 'Football',\n",
       " 'Good',\n",
       " 'come',\n",
       " 'backpack',\n",
       " 'Housing_home',\n",
       " 'Football',\n",
       " 'Good',\n",
       " 4.9,\n",
       " 4.9,\n",
       " 4.9]"
      ]
     },
     "execution_count": 22,
     "metadata": {},
     "output_type": "execute_result"
    }
   ],
   "source": [
    "L.append(4.9)\n",
    "L"
   ]
  },
  {
   "cell_type": "code",
   "execution_count": 26,
   "id": "0d0ea54b",
   "metadata": {},
   "outputs": [
    {
     "data": {
      "text/plain": [
       "(1, 3, 4.9, 'Name', 3, 'a', 'b', 6.7, 'c')"
      ]
     },
     "execution_count": 26,
     "metadata": {},
     "output_type": "execute_result"
    }
   ],
   "source": [
    "T2=(\"a\",\"b\",6.7,\"c\")## This is the only way you can add turple together \n",
    "T3=T + T2\n",
    "T3"
   ]
  },
  {
   "cell_type": "code",
   "execution_count": 28,
   "id": "bb3f7891",
   "metadata": {},
   "outputs": [
    {
     "data": {
      "text/plain": [
       "{1, 3, 4.9, 566, 'Name'}"
      ]
     },
     "execution_count": 28,
     "metadata": {},
     "output_type": "execute_result"
    }
   ],
   "source": [
    "s.add(566)## the way you can add in sets and no dupicate output\n",
    "s"
   ]
  },
  {
   "cell_type": "code",
   "execution_count": 29,
   "id": "f38a29bc",
   "metadata": {},
   "outputs": [
    {
     "data": {
      "text/plain": [
       "{1, 23, 3, 4.9, 56, 566, 'Game', 'Name'}"
      ]
     },
     "execution_count": 29,
     "metadata": {},
     "output_type": "execute_result"
    }
   ],
   "source": [
    "s.update({23,\"Game\",56})\n",
    "s"
   ]
  },
  {
   "cell_type": "code",
   "execution_count": 31,
   "id": "2cd01a5d",
   "metadata": {},
   "outputs": [
    {
     "data": {
      "text/plain": [
       "{23: 'twentythree', 67: 'Gorgeous', 'name': 45, 'new key': 'New value'}"
      ]
     },
     "execution_count": 31,
     "metadata": {},
     "output_type": "execute_result"
    }
   ],
   "source": [
    "d[\"new key\"]= \"New value\"##Way of adding element to this to the Dictionary\n",
    "d"
   ]
  },
  {
   "cell_type": "code",
   "execution_count": 33,
   "id": "259534db",
   "metadata": {},
   "outputs": [
    {
     "data": {
      "text/plain": [
       "{23: 'twentythree',\n",
       " 67: 'Gorgeous',\n",
       " 'name': 45,\n",
       " 'new key': 'New value',\n",
       " 'Name': 'David'}"
      ]
     },
     "execution_count": 33,
     "metadata": {},
     "output_type": "execute_result"
    }
   ],
   "source": [
    "d[\"Name\"]= \"David\" ##Way of adding element to this to the dictionary\n",
    "d"
   ]
  },
  {
   "cell_type": "code",
   "execution_count": null,
   "id": "5f2a8587",
   "metadata": {},
   "outputs": [],
   "source": [
    "## another basic way is just to concatenate to variable of the same data structures together\n",
    "## in any of the data structures.\n",
    "## Examples Below:"
   ]
  },
  {
   "cell_type": "code",
   "execution_count": 34,
   "id": "8b5d7926",
   "metadata": {},
   "outputs": [
    {
     "ename": "TypeError",
     "evalue": "unsupported operand type(s) for +: 'dict' and 'dict'",
     "output_type": "error",
     "traceback": [
      "\u001b[1;31m---------------------------------------------------------------------------\u001b[0m",
      "\u001b[1;31mTypeError\u001b[0m                                 Traceback (most recent call last)",
      "Cell \u001b[1;32mIn[34], line 2\u001b[0m\n\u001b[0;32m      1\u001b[0m D2\u001b[38;5;241m=\u001b[39m{\u001b[38;5;124m\"\u001b[39m\u001b[38;5;124mNAME\u001b[39m\u001b[38;5;124m\"\u001b[39m:\u001b[38;5;124m\"\u001b[39m\u001b[38;5;124mgeoge\u001b[39m\u001b[38;5;124m\"\u001b[39m,\u001b[38;5;124m\"\u001b[39m\u001b[38;5;124mAge\u001b[39m\u001b[38;5;124m\"\u001b[39m:\u001b[38;5;241m32\u001b[39m,\u001b[38;5;124m\"\u001b[39m\u001b[38;5;124mheight\u001b[39m\u001b[38;5;124m\"\u001b[39m:\u001b[38;5;241m6\u001b[39m}\n\u001b[1;32m----> 2\u001b[0m D3\u001b[38;5;241m=\u001b[39md\u001b[38;5;241m+\u001b[39mD2\n",
      "\u001b[1;31mTypeError\u001b[0m: unsupported operand type(s) for +: 'dict' and 'dict'"
     ]
    }
   ],
   "source": [
    "D2={\"NAME\":\"geoge\",\"Age\":32,\"height\":6}\n",
    "D3=d+D2## YOU CANNOT CONCATENATE TWO DICTIONARY"
   ]
  },
  {
   "cell_type": "code",
   "execution_count": 47,
   "id": "51bbc6a3",
   "metadata": {},
   "outputs": [],
   "source": [
    "d.update(D2)"
   ]
  },
  {
   "cell_type": "code",
   "execution_count": 48,
   "id": "80f5e18e",
   "metadata": {},
   "outputs": [
    {
     "data": {
      "text/plain": [
       "{23: 'twentythree',\n",
       " 67: 'Gorgeous',\n",
       " 'name': 45,\n",
       " 'Name': 'David',\n",
       " 'NAME': 'geoge',\n",
       " 'Age': 32,\n",
       " 'height': 6}"
      ]
     },
     "execution_count": 48,
     "metadata": {},
     "output_type": "execute_result"
    }
   ],
   "source": [
    "d"
   ]
  },
  {
   "cell_type": "code",
   "execution_count": 36,
   "id": "146bbfac",
   "metadata": {},
   "outputs": [
    {
     "data": {
      "text/plain": [
       "[1,\n",
       " 3,\n",
       " 4.9,\n",
       " 'come',\n",
       " 'backpack',\n",
       " 'Housing_home',\n",
       " 'Football',\n",
       " 'Good',\n",
       " 'come',\n",
       " 'backpack',\n",
       " 'Housing_home',\n",
       " 'Football',\n",
       " 'Good',\n",
       " 4.9,\n",
       " 4.9,\n",
       " 4.9]"
      ]
     },
     "execution_count": 36,
     "metadata": {},
     "output_type": "execute_result"
    }
   ],
   "source": [
    "del L[3]\n",
    "L"
   ]
  },
  {
   "cell_type": "code",
   "execution_count": 37,
   "id": "5e713857",
   "metadata": {},
   "outputs": [
    {
     "data": {
      "text/plain": [
       "{1, 23, 3, 4.9, 56, 566, 'Game', 'Name'}"
      ]
     },
     "execution_count": 37,
     "metadata": {},
     "output_type": "execute_result"
    }
   ],
   "source": [
    "s"
   ]
  },
  {
   "cell_type": "code",
   "execution_count": 42,
   "id": "a57068ac",
   "metadata": {},
   "outputs": [
    {
     "ename": "KeyError",
     "evalue": "'Game'",
     "output_type": "error",
     "traceback": [
      "\u001b[1;31m---------------------------------------------------------------------------\u001b[0m",
      "\u001b[1;31mKeyError\u001b[0m                                  Traceback (most recent call last)",
      "Cell \u001b[1;32mIn[42], line 1\u001b[0m\n\u001b[1;32m----> 1\u001b[0m s\u001b[38;5;241m.\u001b[39mremove(\u001b[38;5;124m\"\u001b[39m\u001b[38;5;124mGame\u001b[39m\u001b[38;5;124m\"\u001b[39m)\n",
      "\u001b[1;31mKeyError\u001b[0m: 'Game'"
     ]
    }
   ],
   "source": [
    "s.remove(\"Game\")## this has been removed already"
   ]
  },
  {
   "cell_type": "code",
   "execution_count": 43,
   "id": "5adaa3d8",
   "metadata": {},
   "outputs": [
    {
     "data": {
      "text/plain": [
       "{1, 23, 3, 4.9, 56, 566, 'Name'}"
      ]
     },
     "execution_count": 43,
     "metadata": {},
     "output_type": "execute_result"
    }
   ],
   "source": [
    "s"
   ]
  },
  {
   "cell_type": "code",
   "execution_count": 44,
   "id": "962b8d04",
   "metadata": {},
   "outputs": [
    {
     "data": {
      "text/plain": [
       "{23: 'twentythree',\n",
       " 67: 'Gorgeous',\n",
       " 'name': 45,\n",
       " 'new key': 'New value',\n",
       " 'Name': 'David'}"
      ]
     },
     "execution_count": 44,
     "metadata": {},
     "output_type": "execute_result"
    }
   ],
   "source": [
    "d"
   ]
  },
  {
   "cell_type": "code",
   "execution_count": 45,
   "id": "3f4df526",
   "metadata": {},
   "outputs": [],
   "source": [
    "del d[\"new key\"]"
   ]
  },
  {
   "cell_type": "code",
   "execution_count": 46,
   "id": "bf07da7b",
   "metadata": {},
   "outputs": [
    {
     "data": {
      "text/plain": [
       "{23: 'twentythree', 67: 'Gorgeous', 'name': 45, 'Name': 'David'}"
      ]
     },
     "execution_count": 46,
     "metadata": {},
     "output_type": "execute_result"
    }
   ],
   "source": [
    "d"
   ]
  },
  {
   "cell_type": "code",
   "execution_count": 49,
   "id": "f7f96987",
   "metadata": {},
   "outputs": [],
   "source": [
    "## IN OTHER TO COPY THE SAME ELEMENT INTO ANOTHER TYPE OF VARIABLE IN THE DATA STRUCTURES\n",
    "L2=L.copy()"
   ]
  },
  {
   "cell_type": "code",
   "execution_count": 50,
   "id": "0e29be9a",
   "metadata": {},
   "outputs": [
    {
     "data": {
      "text/plain": [
       "[1,\n",
       " 3,\n",
       " 4.9,\n",
       " 'come',\n",
       " 'backpack',\n",
       " 'Housing_home',\n",
       " 'Football',\n",
       " 'Good',\n",
       " 'come',\n",
       " 'backpack',\n",
       " 'Housing_home',\n",
       " 'Football',\n",
       " 'Good',\n",
       " 4.9,\n",
       " 4.9,\n",
       " 4.9]"
      ]
     },
     "execution_count": 50,
     "metadata": {},
     "output_type": "execute_result"
    }
   ],
   "source": [
    "L2 ## its now have the same features without it affecting the values in the list "
   ]
  },
  {
   "cell_type": "code",
   "execution_count": null,
   "id": "b3337266",
   "metadata": {},
   "outputs": [],
   "source": [
    "## slicing\n",
    "## Slicing in Python is a technique for extracting a portion of a sequence (such as a string, list, or tuple) \n",
    "## by specifying a start index, an end index, and an optional step size. \n",
    "## It allows you to create a new sequence containing a subset of the original elements."
   ]
  },
  {
   "cell_type": "code",
   "execution_count": 51,
   "id": "8c094fc0",
   "metadata": {},
   "outputs": [],
   "source": [
    "my_list = [0, 1, 2, 3, 4, 5]\n",
    "sliced_list = my_list[1:4]  "
   ]
  },
  {
   "cell_type": "code",
   "execution_count": 52,
   "id": "58624ddf",
   "metadata": {},
   "outputs": [
    {
     "data": {
      "text/plain": [
       "[1, 2, 3]"
      ]
     },
     "execution_count": 52,
     "metadata": {},
     "output_type": "execute_result"
    }
   ],
   "source": [
    "sliced_list"
   ]
  },
  {
   "cell_type": "code",
   "execution_count": 53,
   "id": "82484be6",
   "metadata": {},
   "outputs": [],
   "source": [
    "my_string = \"Hello, World!\"\n",
    "sliced_string = my_string[0:12:2]##we just skip it by two "
   ]
  },
  {
   "cell_type": "code",
   "execution_count": 54,
   "id": "9b168afc",
   "metadata": {},
   "outputs": [
    {
     "data": {
      "text/plain": [
       "'Hlo ol'"
      ]
     },
     "execution_count": 54,
     "metadata": {},
     "output_type": "execute_result"
    }
   ],
   "source": [
    "sliced_string"
   ]
  },
  {
   "cell_type": "code",
   "execution_count": 56,
   "id": "877a5531",
   "metadata": {},
   "outputs": [
    {
     "data": {
      "text/plain": [
       "{23: 'twentythree',\n",
       " 67: 'Gorgeous',\n",
       " 'name': 45,\n",
       " 'Name': 'David',\n",
       " 'NAME': 'geoge',\n",
       " 'Age': 32,\n",
       " 'height': 6}"
      ]
     },
     "execution_count": 56,
     "metadata": {},
     "output_type": "execute_result"
    }
   ],
   "source": [
    "d"
   ]
  },
  {
   "cell_type": "code",
   "execution_count": 59,
   "id": "959573a1",
   "metadata": {},
   "outputs": [
    {
     "data": {
      "text/plain": [
       "[0, 1, 4, 9, 16, 25, 36, 49, 64, 81]"
      ]
     },
     "execution_count": 59,
     "metadata": {},
     "output_type": "execute_result"
    }
   ],
   "source": [
    "L3= [x**2 for x in range(10)]\n",
    "L3"
   ]
  },
  {
   "cell_type": "code",
   "execution_count": 60,
   "id": "33aecd7d",
   "metadata": {},
   "outputs": [
    {
     "data": {
      "text/plain": [
       "list"
      ]
     },
     "execution_count": 60,
     "metadata": {},
     "output_type": "execute_result"
    }
   ],
   "source": [
    "type(L3)"
   ]
  },
  {
   "cell_type": "code",
   "execution_count": 61,
   "id": "b14cbbb7",
   "metadata": {},
   "outputs": [
    {
     "data": {
      "text/plain": [
       "[4, 16, 36, 64, 100, 144, 196, 256, 324]"
      ]
     },
     "execution_count": 61,
     "metadata": {},
     "output_type": "execute_result"
    }
   ],
   "source": [
    "L4= [x**2 for x in range(2,20,2)]\n",
    "L4"
   ]
  },
  {
   "cell_type": "code",
   "execution_count": 7,
   "id": "f4fb3eab",
   "metadata": {},
   "outputs": [],
   "source": [
    "def grade_offender():\n",
    "    D = {}\n",
    "    while True:\n",
    "        studentid= input(\"Enter your id: \")\n",
    "        marklist= input(\"Enter each marks by comma: \")\n",
    "        morestudents= input('Enter \"no\" to quit:')\n",
    "        if studentid in D:\n",
    "            print(\"studentid inputted successfully!!!\")\n",
    "        else:\n",
    "            D[studentid] == marklist.split(\",\")\n",
    "        if  morestudents.lower() == \"no\":\n",
    "            return D\n",
    "            "
   ]
  },
  {
   "cell_type": "code",
   "execution_count": null,
   "id": "f3aa3e77",
   "metadata": {},
   "outputs": [
    {
     "name": "stdout",
     "output_type": "stream",
     "text": [
      "Enter your id: 13\n",
      "Enter each marks by comma: 75,30,45,67,65,60\n"
     ]
    }
   ],
   "source": [
    "studentdata= grade_offender()"
   ]
  },
  {
   "cell_type": "code",
   "execution_count": null,
   "id": "cd61f098",
   "metadata": {},
   "outputs": [],
   "source": []
  }
 ],
 "metadata": {
  "kernelspec": {
   "display_name": "Python 3 (ipykernel)",
   "language": "python",
   "name": "python3"
  },
  "language_info": {
   "codemirror_mode": {
    "name": "ipython",
    "version": 3
   },
   "file_extension": ".py",
   "mimetype": "text/x-python",
   "name": "python",
   "nbconvert_exporter": "python",
   "pygments_lexer": "ipython3",
   "version": "3.11.5"
  }
 },
 "nbformat": 4,
 "nbformat_minor": 5
}
