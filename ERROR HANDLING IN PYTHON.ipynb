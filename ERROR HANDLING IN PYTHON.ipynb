{
 "cells": [
  {
   "cell_type": "code",
   "execution_count": 2,
   "id": "b7831bcd",
   "metadata": {},
   "outputs": [
    {
     "name": "stdout",
     "output_type": "stream",
     "text": [
      "5.0\n",
      "hello\n"
     ]
    }
   ],
   "source": [
    "try:\n",
    "    print(10/2)\n",
    "except:\n",
    "    print(\"Error occured! division error\")\n",
    "print(\"hello\")    "
   ]
  },
  {
   "cell_type": "code",
   "execution_count": null,
   "id": "c4e35c22",
   "metadata": {},
   "outputs": [],
   "source": [
    "##ERROR HANDLING \n",
    "## Overall, error handling is a fundamental aspect of programming that ensures your \n",
    "##code is robust and user-friendly. It allows you to anticipate and respond to issues that \n",
    "## may arise during program execution. Proper error handling makes your software more reliable and \n",
    "## helps you identify and address problems when they occur."
   ]
  },
  {
   "cell_type": "code",
   "execution_count": 13,
   "id": "42a2b3a6",
   "metadata": {},
   "outputs": [
    {
     "name": "stdout",
     "output_type": "stream",
     "text": [
      "Zero can't be Divided stupid\n"
     ]
    }
   ],
   "source": [
    "try:\n",
    "    dividend=10\n",
    "    divisor=0\n",
    "    result= dividend/divisor\n",
    "except ZeroDivisionError:\n",
    "    print(\"Zero can't be Divided stupid\")"
   ]
  },
  {
   "cell_type": "code",
   "execution_count": 19,
   "id": "164a08de",
   "metadata": {},
   "outputs": [
    {
     "name": "stdout",
     "output_type": "stream",
     "text": [
      "what is the dividend number:2\n",
      "what is the divisor number:0\n",
      "Number can not be divide by Zero\n"
     ]
    }
   ],
   "source": [
    "### Division by Zero\n",
    "try:\n",
    "    number= int(input(\"what is the dividend number:\"))\n",
    "    number2=int(input(\"what is the divisor number:\"))\n",
    "    result= number/number2 \n",
    "    print(f\"The divide number is {result}\")\n",
    "except ZeroDivisionError:\n",
    "    print(\"Number can not be divide by Zero\")\n",
    "    \n",
    "except ValueError:\n",
    "    print(\"please enter the correct numbers\")\n",
    "    "
   ]
  },
  {
   "cell_type": "code",
   "execution_count": null,
   "id": "83316edd",
   "metadata": {},
   "outputs": [],
   "source": [
    "### trying to import file has error\n"
   ]
  }
 ],
 "metadata": {
  "kernelspec": {
   "display_name": "Python 3 (ipykernel)",
   "language": "python",
   "name": "python3"
  },
  "language_info": {
   "codemirror_mode": {
    "name": "ipython",
    "version": 3
   },
   "file_extension": ".py",
   "mimetype": "text/x-python",
   "name": "python",
   "nbconvert_exporter": "python",
   "pygments_lexer": "ipython3",
   "version": "3.11.5"
  }
 },
 "nbformat": 4,
 "nbformat_minor": 5
}
