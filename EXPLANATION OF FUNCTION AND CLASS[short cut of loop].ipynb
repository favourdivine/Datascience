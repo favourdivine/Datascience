{
 "cells": [
  {
   "cell_type": "markdown",
   "id": "0dd5bbcd",
   "metadata": {},
   "source": [
    "## WHAT IS A FUNCTION ??\n",
    "## Functions are essential building blocks in Python and most programming languages. \n",
    "## They allow you to encapsulate a block of code into a reusable, named unit.\n",
    "## Functions are used to group code into logical blocks, make code more readable, and enable code reuse."
   ]
  },
  {
   "cell_type": "code",
   "execution_count": null,
   "id": "a8a60e6b",
   "metadata": {},
   "outputs": [],
   "source": [
    "## In Python, you define a function using the def keyword, \n",
    "## followed by the function name, \n",
    "## A pair of parentheses (), and a colon :. \n",
    "## The function body is indented."
   ]
  },
  {
   "cell_type": "code",
   "execution_count": 1,
   "id": "9f53198e",
   "metadata": {},
   "outputs": [],
   "source": [
    "def great():\n",
    "    print(\"Hello World\")"
   ]
  },
  {
   "cell_type": "code",
   "execution_count": 2,
   "id": "77dca1db",
   "metadata": {},
   "outputs": [
    {
     "name": "stdout",
     "output_type": "stream",
     "text": [
      "Hello World\n"
     ]
    }
   ],
   "source": [
    "great()"
   ]
  },
  {
   "cell_type": "markdown",
   "id": "deee59fa",
   "metadata": {},
   "source": [
    "## PARAMETERS"
   ]
  },
  {
   "cell_type": "code",
   "execution_count": 9,
   "id": "ab1fe284",
   "metadata": {},
   "outputs": [
    {
     "name": "stdout",
     "output_type": "stream",
     "text": [
      "Hello,DIVINE\n"
     ]
    }
   ],
   "source": [
    "def greet(name):\n",
    "    print(f\"Hello,{name}\")\n",
    "greet(\"DIVINE\")    "
   ]
  },
  {
   "cell_type": "code",
   "execution_count": 16,
   "id": "cdec7f4c",
   "metadata": {},
   "outputs": [
    {
     "name": "stdout",
     "output_type": "stream",
     "text": [
      "welcome To,early code!\n"
     ]
    }
   ],
   "source": [
    "def paper(company):\n",
    "    print(f\"welcome To,{company}!\")\n",
    "paper(\"early code\")    "
   ]
  },
  {
   "cell_type": "markdown",
   "id": "09768c30",
   "metadata": {},
   "source": [
    "## Return values"
   ]
  },
  {
   "cell_type": "code",
   "execution_count": 25,
   "id": "16e003d4",
   "metadata": {},
   "outputs": [
    {
     "data": {
      "text/plain": [
       "16"
      ]
     },
     "execution_count": 25,
     "metadata": {},
     "output_type": "execute_result"
    }
   ],
   "source": [
    "def add(a, b):\n",
    "    return a + b\n",
    "add(7, 9)"
   ]
  },
  {
   "cell_type": "markdown",
   "id": "7ad5c21e",
   "metadata": {},
   "source": [
    "## default parameters"
   ]
  },
  {
   "cell_type": "code",
   "execution_count": 24,
   "id": "e45a4952",
   "metadata": {},
   "outputs": [
    {
     "name": "stdout",
     "output_type": "stream",
     "text": [
      "Good morning, guest\n",
      "Good morning, Alissa\n"
     ]
    }
   ],
   "source": [
    "def check_in(name=\"guest\"):\n",
    "    print(f\"Good morning, {name}\")\n",
    "check_in()\n",
    "check_in(\"Alissa\")    "
   ]
  },
  {
   "cell_type": "code",
   "execution_count": null,
   "id": "807da785",
   "metadata": {},
   "outputs": [],
   "source": [
    "## solve the problem \n",
    "## Define a function calculate_area that takes two parameters: length and width.\n",
    "\n",
    "## Inside the function, calculate the area of the rectangle using the formula: area = length * width.\n",
    "\n",
    "## Return the calculated area from the function.\n",
    "\n",
    "## In the main part of the program, ask the user to input the length and width of the rectangle.\n",
    "\n",
    "## Call the calculate_area function with the user-provided length and width as arguments.\n",
    "\n",
    "## Print the calculated area of the rectangle."
   ]
  },
  {
   "cell_type": "code",
   "execution_count": null,
   "id": "01e27951",
   "metadata": {},
   "outputs": [],
   "source": []
  },
  {
   "cell_type": "raw",
   "id": "13487cd9",
   "metadata": {},
   "source": []
  },
  {
   "cell_type": "code",
   "execution_count": 31,
   "id": "830c305c",
   "metadata": {},
   "outputs": [
    {
     "name": "stdout",
     "output_type": "stream",
     "text": [
      "What is the lenght needed:10\n",
      "What is the width needed:90\n",
      "The outcome of the area of a rectangle is:900\n"
     ]
    }
   ],
   "source": [
    "def calculate_area(lenght, width):\n",
    "    area_calculation= lenght * width\n",
    "    return area_calculation\n",
    "\n",
    "\n",
    "user_lenght= int(input(\"What is the lenght needed:\"))\n",
    "user_width= int(input(\"What is the width needed:\"))\n",
    "\n",
    "area_calculation = calculate_area(user_lenght, user_width) ## inputing the user_lenght and user_width is just repalce the lenght and width\n",
    "print(f\"The outcome of the area of a rectangle is:{area_calculation}\")"
   ]
  },
  {
   "cell_type": "code",
   "execution_count": null,
   "id": "98ecf4f4",
   "metadata": {},
   "outputs": [],
   "source": [
    "## Define a function called calculate_factorial that takes one parameter, n,\n",
    "## which represents the number for which you want to calculate the factorial.\n",
    "\n",
    "## Inside the function, calculate the factorial of n using a loop.\n",
    "\n",
    "## Return the calculated factorial from the function.\n",
    "\n",
    "## In the main part of the program, ask the user to input a positive integer.\n",
    "\n",
    "## Call the calculate_factorial function with the user-provided number as an argument.\n",
    "\n",
    "## Print the calculated factorial."
   ]
  },
  {
   "cell_type": "code",
   "execution_count": 42,
   "id": "9147cfb0",
   "metadata": {},
   "outputs": [
    {
     "name": "stdout",
     "output_type": "stream",
     "text": [
      "what is your factorial number:5\n",
      "Calculated factorial is: 120\n"
     ]
    }
   ],
   "source": [
    "def calculate_factorial(n):\n",
    "    factorial= 1\n",
    "    for i in range(1, n+1):\n",
    "        factorial *= i\n",
    "    return factorial\n",
    "    \n",
    "n=int(input(\"what is your factorial number:\"))    \n",
    "formula_sent= calculate_factorial(n)\n",
    "print(f\"Calculated factorial is: {formula_sent}\")"
   ]
  },
  {
   "cell_type": "code",
   "execution_count": null,
   "id": "dee387ca",
   "metadata": {},
   "outputs": [],
   "source": [
    "## Imagine you're at a restaurant, and\n",
    "## you want to calculate the tip to leave for the server based on the total bill amount and the desired tip percentage. \n",
    "## You can create a Python program with a function to do this calculation for you."
   ]
  },
  {
   "cell_type": "code",
   "execution_count": 46,
   "id": "c3eead4c",
   "metadata": {},
   "outputs": [
    {
     "name": "stdout",
     "output_type": "stream",
     "text": [
      "YOUR TOTAL BILL IS:9000\n",
      "YOUR TOTAL TIPS IS:4500\n",
      " THE TOTAL AMOUNT REMAINING:40500000.00\n"
     ]
    }
   ],
   "source": [
    "def calculate_tip(total_bill, tip_itended):\n",
    "    client_bill= total_bill * tip_itended\n",
    "    return client_bill\n",
    "\n",
    "user_input= int(input(\"YOUR TOTAL BILL IS:\"))\n",
    "user_input2= int(input(\"YOUR TOTAL TIPS IS:\"))\n",
    "tip_amount= calculate_tip(user_input, user_input2)\n",
    "print(f\" THE TOTAL AMOUNT REMAINING:{tip_amount:.2f}\")"
   ]
  },
  {
   "cell_type": "code",
   "execution_count": null,
   "id": "ac7c5397",
   "metadata": {},
   "outputs": [],
   "source": [
    "## Define Functions for Conversion:\n",
    "\n",
    "Create a function called fahrenheit_to_celsius that takes a temperature in Fahrenheit\n",
    "as input and returns the equivalent temper\n",
    "ature in Celsius.\n",
    "Create another function called celsius_to_fahrenheit that takes a \n",
    "temperature in Celsius as input and returns the equivalent temperature in Fahrenheit."
   ]
  },
  {
   "cell_type": "code",
   "execution_count": 2,
   "id": "c27e165d",
   "metadata": {},
   "outputs": [
    {
     "name": "stdout",
     "output_type": "stream",
     "text": [
      "what is the fahrenheit now :90\n",
      "The fahrenheit is been : 32.22222222222222\n"
     ]
    }
   ],
   "source": [
    "def fahrenheit_to_celsius(fahrenheit):\n",
    "    cal_calculation=(fahrenheit-32) * 5/9\n",
    "    return cal_calculation\n",
    "\n",
    "user_fahrenheit= int(input(\"what is the fahrenheit now :\"))\n",
    "program_fahrenheit=fahrenheit_to_celsius(user_fahrenheit)\n",
    "print(f\"The fahrenheit is been : {program_fahrenheit}\")"
   ]
  },
  {
   "cell_type": "code",
   "execution_count": null,
   "id": "14d66836",
   "metadata": {},
   "outputs": [],
   "source": [
    "## class_work \n",
    "## Write a Python function called calculate_triangle_area that calculates and returns the area of a triangle given its base \n",
    "## and height. \n",
    "## The formula to calculate the area of a triangle is (base * height) / 2."
   ]
  },
  {
   "cell_type": "code",
   "execution_count": 5,
   "id": "81cb0613",
   "metadata": {},
   "outputs": [
    {
     "name": "stdout",
     "output_type": "stream",
     "text": [
      "What is the base of the triangle:7\n",
      "what is the height of the triangle:12\n",
      " The area of a triangle is : 42.0\n"
     ]
    }
   ],
   "source": [
    "def triangle_area(base, height):\n",
    "    solution= (base * height) / 2\n",
    "    return solution\n",
    "user_bs=int(input(\"What is the base of the triangle:\"))\n",
    "user_hg=int(input(\"what is the height of the triangle:\"))\n",
    "conclusion_code=triangle_area(user_bs, user_hg)\n",
    "print(f\" The area of a triangle is : {conclusion_code}\")"
   ]
  },
  {
   "cell_type": "code",
   "execution_count": null,
   "id": "2101310e",
   "metadata": {},
   "outputs": [],
   "source": [
    "### class_work \n",
    "## Define a function called calculate_hypotenuse that takes two parameters: \n",
    "## a (the length of one leg) and b (the length of the other leg).\n",
    "\n",
    "## Inside the function, calculate the length of the hypotenuse c using the Pythagorean theorem formula.\n",
    "\n",
    "## Return the calculated length of the hypotenuse from the function.\n",
    "\n",
    "## In the main part of the program, ask the user to input \n",
    "## the lengths of the two legs of the right triangle as floating-point numbers.\n",
    "\n",
    "## Call the calculate_hypotenuse function with the user-provided values.\n",
    "\n",
    "## Print the calculated length of the hypotenuse."
   ]
  },
  {
   "cell_type": "code",
   "execution_count": 7,
   "id": "aba50975",
   "metadata": {},
   "outputs": [
    {
     "name": "stdout",
     "output_type": "stream",
     "text": [
      "what is the lenght of the one leg(A):90\n",
      "QWhat is the lenght of the other leg(b): 80\n",
      "calcualted lenght of the hypothenuse: 120.41594578792295\n"
     ]
    }
   ],
   "source": [
    "def calculate_hypotenuse(a, b):\n",
    "    c = (a**2 + b**2)**0.5\n",
    "    return c\n",
    "user_a= int(input(\"what is the lenght of the one leg(A):\"))\n",
    "user_b= int(input(\"QWhat is the lenght of the other leg(b): \"))\n",
    "solution=calculate_hypotenuse(user_a, user_b)\n",
    "print(f\"calcualted lenght of the hypothenuse: {solution}\")\n",
    "    "
   ]
  },
  {
   "cell_type": "markdown",
   "id": "2173213e",
   "metadata": {},
   "source": [
    "### utility function or helper function"
   ]
  },
  {
   "cell_type": "markdown",
   "id": "0873a67c",
   "metadata": {},
   "source": [
    "## what utility function :software development, utility functions or helper functions are functions that are \n",
    "## created to perform a specific, often reusable, task that helps simplify or streamline the main logic of a program. \n",
    "## These functions are designed to be called from other parts of a program to perform a \n",
    "## specific subtask."
   ]
  },
  {
   "cell_type": "code",
   "execution_count": null,
   "id": "e3e823ab",
   "metadata": {},
   "outputs": [],
   "source": [
    "## Imagine you're building a simple program to simulate an online shopping cart for an e-commerce website. \n",
    "## In this scenario, you can use functions to model \n",
    "## various actions that a user can perform while shopping online."
   ]
  },
  {
   "cell_type": "code",
   "execution_count": 9,
   "id": "3b708046",
   "metadata": {},
   "outputs": [
    {
     "ename": "SyntaxError",
     "evalue": "invalid syntax (1657851474.py, line 3)",
     "output_type": "error",
     "traceback": [
      "\u001b[1;36m  Cell \u001b[1;32mIn[9], line 3\u001b[1;36m\u001b[0m\n\u001b[1;33m    \"product_name\": product_name\u001b[0m\n\u001b[1;37m                  ^\u001b[0m\n\u001b[1;31mSyntaxError\u001b[0m\u001b[1;31m:\u001b[0m invalid syntax\n"
     ]
    }
   ],
   "source": [
    "def add_in_cart(cart,product_name,price,quantity):\n",
    "    cart.append([\n",
    "    \"product_name\": product_name    \n",
    "    \"price\":price\n",
    "    \"quantity\":quantity\n",
    "    ])\n",
    "    \n",
    "def calcualate_cart_total(cart):\n",
    "    total = 0\n",
    "    for item in cart:\n",
    "        total += item[price] * item[quantity]\n",
    "    return total\n",
    "\n",
    "def display_cart(cart):\n",
    "    for item in cart:\n",
    "        print(f\"{item[\"product_name\"]}-price:{item[\"price\"]}-quantity{item[\"quantity\"]}\")\n",
    "        \n",
    "def check_out        "
   ]
  },
  {
   "cell_type": "code",
   "execution_count": null,
   "id": "5bf0a9a4",
   "metadata": {},
   "outputs": [],
   "source": [
    "## write a function program that can you can summit a subject score and it will bring it out and tell you the avrage"
   ]
  },
  {
   "cell_type": "code",
   "execution_count": null,
   "id": "0963f788",
   "metadata": {},
   "outputs": [],
   "source": []
  },
  {
   "cell_type": "code",
   "execution_count": 16,
   "id": "514802cd",
   "metadata": {},
   "outputs": [
    {
     "name": "stdout",
     "output_type": "stream",
     "text": [
      "chemistry score:90\n",
      "physics score:90\n",
      "mathematics score:90\n",
      "biology score:89\n",
      "chemistry score:90\n",
      "geography score:99\n",
      "geography score:90\n",
      "your avg grade in the 7 subject 91.14285714285714 Grade A\n"
     ]
    }
   ],
   "source": [
    "def grade_system():\n",
    "    subject1=int(input(\"chemistry score:\"))\n",
    "    subject2=int(input(\"physics score:\"))\n",
    "    subject3=int(input(\"mathematics score:\"))\n",
    "    subject4=int(input(\"biology score:\"))\n",
    "    subject5=int(input(\"chemistry score:\"))\n",
    "    subject6=int(input(\"geography score:\"))\n",
    "    subject7=int(input(\"geography score:\"))\n",
    "    avg=((subject1+subject2+subject3+subject4+subject5+subject6+subject7)/7)\n",
    "    if avg>= 70 and avg <= 100:\n",
    "        print(f\"your avg grade in the 7 subject {avg} Grade A\")\n",
    "    elif avg>=60 and avg <= 69.99:\n",
    "        print(f\"your avg grade in the 7 subject {avg} Grade B\")\n",
    "    elif avg>=50 and avg <= 59.99:\n",
    "        print(f\"your avg grade in the 7 subject {avg} Grade C\")\n",
    "    elif avg>=40 and avg <= 49.99:\n",
    "        print(f\" your avg grade in the 7 subject  {avg} Grade D\")\n",
    "    elif avg>=30 and avg <= 39.99:\n",
    "        print(f\"your avg grade in the 7 subject {avg} Grade F\")\n",
    "    elif avg>= 20 and avg <= 29.99:\n",
    "        print(f\" your average garde in the 7 subject {avg} Grade E\")\n",
    "        \n",
    "    else: \n",
    "        print(f\"Your avg in the 7 subject your grade {avg} is too low\")\n",
    "grade_system()        "
   ]
  },
  {
   "cell_type": "code",
   "execution_count": 32,
   "id": "25d0a1ae",
   "metadata": {},
   "outputs": [
    {
     "name": "stdout",
     "output_type": "stream",
     "text": [
      "Tom cruise Shoot film in mission impossible\n",
      "Tom cruise says how are you doing??\n"
     ]
    }
   ],
   "source": [
    "class human:\n",
    "    def __init__ (self,n,o):\n",
    "        self.name=n\n",
    "        self.occupation=o\n",
    "            \n",
    "    def do_work(self):\n",
    "        if self.occupation == \"Tennis player\":\n",
    "            print(self.name, \"plays Tennis\")\n",
    "        elif self.occupation == \"Actor\":\n",
    "            print(self.name,\"Shoot film in mission impossible\")\n",
    "    def say(self):\n",
    "        print(self.name, \"says how are you doing??\")\n",
    "        \n",
    "sam= human(\"Tom cruise\", \"Actor\")\n",
    "sam.do_work()\n",
    "sam.say()"
   ]
  },
  {
   "cell_type": "code",
   "execution_count": 5,
   "id": "8725e077",
   "metadata": {},
   "outputs": [
    {
     "name": "stdout",
     "output_type": "stream",
     "text": [
      "Dog is not hungry enough\n",
      "The Bussy is very sleepy\n",
      " The Bussy is a very good Breed\n"
     ]
    }
   ],
   "source": [
    "class human:\n",
    "    def __init__(self,n,b):\n",
    "        self.name = n\n",
    "        self.occupation= b\n",
    "        self.energy= 80\n",
    "    def fun_type(self):\n",
    "        print(f'{self.name} barks out with energy{self.energy}')\n",
    "    def food(self, energy):\n",
    "        if self.energy <= 20 :\n",
    "            print(f'feed{self.name}is hungry')\n",
    "        else:\n",
    "             print(f'Dog is not hungry enough')\n",
    "    def play_time(self, energy):\n",
    "        if self.energy <= 34:\n",
    "           print(f\" The {self.name} is tired and need food.\")\n",
    "           self.energy -= 34\n",
    "        else:\n",
    "             print(f\"The {self.name} is very sleepy\")\n",
    "    def over_time(self):\n",
    "        print(f\" The {self.name} is a very good {self.occupation}\")\n",
    "                 \n",
    "bussy= human(\"Bussy\",\"Breed\")\n",
    "bussy.food(30)\n",
    "bussy.play_time(25)\n",
    "bussy.over_time()"
   ]
  },
  {
   "cell_type": "code",
   "execution_count": null,
   "id": "8bc0c65b",
   "metadata": {},
   "outputs": [],
   "source": []
  },
  {
   "cell_type": "code",
   "execution_count": null,
   "id": "d80d1d64",
   "metadata": {},
   "outputs": [],
   "source": [
    "## write a program of a certain food and the amount of the food at the restaurant \n",
    "## And with the amount of the certain food in shich the restaurant served\n",
    "## And print out like receipt of the total cost plus taxes of the food \n",
    "## Burger= 500\n",
    "## chicken wings=200\n",
    "## chicken foiler=100\n",
    "## chicken soup=50\n",
    "### And also Title the restaurant name with FOOD KINGDOM"
   ]
  },
  {
   "cell_type": "code",
   "execution_count": 25,
   "id": "5107d0dd",
   "metadata": {},
   "outputs": [],
   "source": [
    "def food_world():\n",
    "    foods_input=input(\"WHAT KIND OF FOOD DO WANT TO ORDER:\")\n",
    "    amount=input(\"Amount of food:\")\n",
    "    quantity=int(input(\"How many:\"))\n",
    "    if foods_input == \"Burger\" and amount == 500:\n",
    "        print(f'''______FOODKINGDOM RECIEPT____\n",
    "        FOOD_ORDERED:{foods_input}\n",
    "        AMOUNT:{amount}\n",
    "        TAX:{0.10}\n",
    "        TOTAL:{amount*quantity+amount}\n",
    "        THANKS FOR PATRONAGE!!!\n",
    "        ''')\n",
    "    elif foods_input == \"Chicken foiler\"  and amount == 200:\n",
    "        print(f'''______FOODKINGDOM RECIEPT____\n",
    "        FOOD_ORDERED:{foods_input}\n",
    "        AMOUNT:{amount}\n",
    "        TAX:{0.10}\n",
    "        TOTAL:{amount*quantity+amount}\n",
    "        THANKS FOR PATRONAGE!!!\n",
    "        ''') \n",
    "    elif foods_input == \"Chicken soup\" and amount == 100:\n",
    "        print(f'''______FOODKINGDOM RECIEPT____\n",
    "        FOOD_ORDERED:{foods_input}\n",
    "        AMOUNT:{amount}\n",
    "        TAX:{0.10}\n",
    "        TOTAL:{amount*quantity+amount}\n",
    "        THANKS FOR PATRONAGE!!!\n",
    "        ''')\n",
    "    else:\n",
    "        print(\"so sorry wrong input try again!!\")\n",
    "               "
   ]
  },
  {
   "cell_type": "code",
   "execution_count": 35,
   "id": "79106242",
   "metadata": {},
   "outputs": [
    {
     "name": "stdout",
     "output_type": "stream",
     "text": [
      "WHAT KIND OF FOOD DO WANT TO ORDER:chicken wings\n",
      "Amount of food:$250\n",
      "How many:2\n",
      "_____FOODKINGDOM FOOD_____\n",
      "    FOOD NAME:chicken wings\n",
      "    AMOUNT:250\n",
      "    Total:550.0\n",
      "    Tax_rate:0.1\n",
      "    \n"
     ]
    }
   ],
   "source": [
    "def food_world():\n",
    "    foods_input=input(\"WHAT KIND OF FOOD DO WANT TO ORDER:\")\n",
    "    amount=int(input(\"Amount of food:$\"))\n",
    "    quantity=int(input(\"How many:\"))\n",
    "    if foods_input == \"Burger\" and amount == 500:\n",
    "        food_name = \"Burger\"\n",
    "    elif foods_input == \"chicken foiler\"and amount == 200:\n",
    "        food_name = \"chicken foiler\"\n",
    "    elif foods_input == \"Chicken soup\" and amount == 100:\n",
    "        food_name = \"chicken soup\"\n",
    "    elif foods_input == \"chicken wings\" and amount == 250:\n",
    "        food_name = \"chicken wings\"\n",
    "    else:\n",
    "        print(f\"sorry you input the wrong selection\")\n",
    "        return\n",
    "    tax=0.10\n",
    "    tax_rate=amount*quantity*tax\n",
    "    total=amount*quantity+tax_rate\n",
    "    \n",
    "    print(f'''_____FOODKINGDOM FOOD_____\n",
    "    FOOD NAME:{food_name}\n",
    "    AMOUNT:{amount}\n",
    "    Total:{total}\n",
    "    Tax_rate:{tax}\n",
    "    ''')\n",
    "my_food=food_world()   "
   ]
  },
  {
   "cell_type": "code",
   "execution_count": 13,
   "id": "b6e182b2",
   "metadata": {},
   "outputs": [
    {
     "name": "stdout",
     "output_type": "stream",
     "text": [
      "Full Name: John Doe\n"
     ]
    }
   ],
   "source": [
    "def format_full_name(first_name, last_name):\n",
    "    full_name = f\"{first_name} {last_name}\"\n",
    "    return full_name\n",
    "\n",
    "# Call the function and store the returned formatted name in a variable\n",
    "formatted_name = format_full_name(\"John\", \"Doe\")\n",
    "\n",
    "# Now you can use the formatted name in your program\n",
    "print(\"Full Name:\", formatted_name)"
   ]
  },
  {
   "cell_type": "markdown",
   "id": "76483137",
   "metadata": {},
   "source": [
    "## INHERITANCE USING OBJECT"
   ]
  },
  {
   "cell_type": "code",
   "execution_count": 54,
   "id": "f084407a",
   "metadata": {
    "scrolled": true
   },
   "outputs": [
    {
     "name": "stdout",
     "output_type": "stream",
     "text": [
      "i am car\n",
      "i am motor-cycle\n",
      "Transportation\n",
      "This is for cruising around and it protect me from rain also to for long journey\n",
      "Transportation\n",
      "This is out of roofing but can be used for bike racing\n"
     ]
    }
   ],
   "source": [
    "class vehcircle:\n",
    "    def general_usage(self):\n",
    "        print(\"Transportation\")\n",
    "class car(vehcircle):\n",
    "    print('i am car')\n",
    "    def __init__(self):\n",
    "        self.motorcycle= 4\n",
    "        self.have_roof= True\n",
    "    def specific_purpose(self):\n",
    "        print(\"This is for cruising around and it protect me from rain also to for long journey\")\n",
    "class motorcycle(vehcircle):\n",
    "    print(\"i am motor-cycle\")\n",
    "    def __init__(self):\n",
    "        self.motorcycle= 2\n",
    "        self.have_roof= True \n",
    "    def specific_purpose(self):\n",
    "        print(\"This is out of roofing but can be used for bike racing\")\n",
    "c= car()\n",
    "c.general_usage()\n",
    "c.specific_purpose()\n",
    "\n",
    "\n",
    "\n",
    "m= motorcycle()\n",
    "m.general_usage()\n",
    "m.specific_purpose()\n",
    "\n",
    "\n",
    "## benefits of inheritance\n",
    "## code reuse\n",
    "## extensibility\n",
    "## readability"
   ]
  },
  {
   "cell_type": "code",
   "execution_count": 57,
   "id": "5075f1e3",
   "metadata": {},
   "outputs": [
    {
     "name": "stdout",
     "output_type": "stream",
     "text": [
      "I RACE WITH BILLIONAIRES\n",
      "I love to cook any diches of food african/american/cameroon dishes\n",
      "i love to dance my heart out and i have won so many award!!! \n",
      " I LOVE BASKETBALL SO MUCH, And am a big man in the game play\n"
     ]
    }
   ],
   "source": [
    "### using mutiple inheritance in one derive class \n",
    "class father:\n",
    "    def driving(self):\n",
    "        print(\"I RACE WITH BILLIONAIRES\")\n",
    "class mother:\n",
    "    def cooking(self):\n",
    "        print(\"I love to cook any diches of food african/american/cameroon dishes\")\n",
    "        \n",
    "class sister:\n",
    "    def dancing(self):\n",
    "        print(\"i love to dance my heart out and i have won so many award!!! \")\n",
    "        \n",
    "class child(father,mother,sister):\n",
    "    def sport(self):\n",
    "        print(\" I LOVE BASKETBALL SO MUCH, And am a big man in the game play\")\n",
    "        \n",
    "c=child()\n",
    "c.driving()\n",
    "c.cooking()\n",
    "c.dancing()\n",
    "c.sport()"
   ]
  },
  {
   "cell_type": "code",
   "execution_count": 58,
   "id": "549de8ab",
   "metadata": {},
   "outputs": [
    {
     "ename": "SyntaxError",
     "evalue": "'yield' outside function (1066964422.py, line 1)",
     "output_type": "error",
     "traceback": [
      "\u001b[1;36m  Cell \u001b[1;32mIn[58], line 1\u001b[1;36m\u001b[0m\n\u001b[1;33m    yield\u001b[0m\n\u001b[1;37m    ^\u001b[0m\n\u001b[1;31mSyntaxError\u001b[0m\u001b[1;31m:\u001b[0m 'yield' outside function\n"
     ]
    }
   ],
   "source": [
    "yield"
   ]
  },
  {
   "cell_type": "code",
   "execution_count": null,
   "id": "033dae4e",
   "metadata": {},
   "outputs": [],
   "source": [
    "## short cut in the loop "
   ]
  },
  {
   "cell_type": "code",
   "execution_count": 61,
   "id": "041a8aa0",
   "metadata": {},
   "outputs": [
    {
     "data": {
      "text/plain": [
       "[2, 4, 6, 8]"
      ]
     },
     "execution_count": 61,
     "metadata": {},
     "output_type": "execute_result"
    }
   ],
   "source": [
    "## short cut in loop \n",
    "numbers=[1,2,3,4,5,6,7,8]\n",
    "even=[i for i in numbers if i%2==0]\n",
    "even"
   ]
  },
  {
   "cell_type": "code",
   "execution_count": 66,
   "id": "41e1d06c",
   "metadata": {},
   "outputs": [
    {
     "data": {
      "text/plain": [
       "[2, 34, 6, 8]"
      ]
     },
     "execution_count": 66,
     "metadata": {},
     "output_type": "execute_result"
    }
   ],
   "source": [
    "## long_cut in the loop\n",
    "numbers=[1,2,34,5,6,7,8,]\n",
    "even=[]\n",
    "for i in numbers:\n",
    "    if i%2==0:\n",
    "        even.append(i)\n",
    "even        "
   ]
  },
  {
   "cell_type": "code",
   "execution_count": 67,
   "id": "973c6ae9",
   "metadata": {},
   "outputs": [
    {
     "data": {
      "text/plain": [
       "[4, 16, 64, 100]"
      ]
     },
     "execution_count": 67,
     "metadata": {},
     "output_type": "execute_result"
    }
   ],
   "source": [
    "## short cut in square for loop \n",
    "numbers=[2,4,8,10]\n",
    "square=[i*i for i in numbers]\n",
    "square"
   ]
  },
  {
   "cell_type": "code",
   "execution_count": 69,
   "id": "254cebc6",
   "metadata": {},
   "outputs": [
    {
     "name": "stdout",
     "output_type": "stream",
     "text": [
      "('Nigeria', 'New york')\n",
      "('USA', 'Washington')\n",
      "('GERMANY', 'Toronto')\n",
      "('BERLIN', 'Abuja')\n"
     ]
    }
   ],
   "source": [
    "country=[\"Nigeria\",\"USA\",\"GERMANY\",\"BERLIN\",\"CAMEROON\"]\n",
    "cities=[\"New york\",\"Washington\",\"Toronto\",\"Abuja\"]\n",
    "z=zip(country,cities)### this is to join to set together\n",
    "z\n",
    "for a in z:\n",
    "    print(a)"
   ]
  },
  {
   "cell_type": "code",
   "execution_count": null,
   "id": "16302c25",
   "metadata": {},
   "outputs": [],
   "source": []
  }
 ],
 "metadata": {
  "kernelspec": {
   "display_name": "Python 3 (ipykernel)",
   "language": "python",
   "name": "python3"
  },
  "language_info": {
   "codemirror_mode": {
    "name": "ipython",
    "version": 3
   },
   "file_extension": ".py",
   "mimetype": "text/x-python",
   "name": "python",
   "nbconvert_exporter": "python",
   "pygments_lexer": "ipython3",
   "version": "3.11.5"
  }
 },
 "nbformat": 4,
 "nbformat_minor": 5
}
