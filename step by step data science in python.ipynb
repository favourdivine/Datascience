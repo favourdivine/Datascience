{
 "cells": [
  {
   "cell_type": "code",
   "execution_count": null,
   "id": "37057680",
   "metadata": {},
   "outputs": [],
   "source": [
    "## The pseudocode helps you plan your Python code logically and makes \n",
    "## it easier to understand the program's structure before you write the actual code. While pseudocode isn't \n",
    "## executed like Python code, \n",
    "## it's a valuable planning tool in software development."
   ]
  },
  {
   "cell_type": "code",
   "execution_count": 4,
   "id": "34c18335",
   "metadata": {},
   "outputs": [
    {
     "name": "stdout",
     "output_type": "stream",
     "text": [
      "amount of apple:2\n",
      "The total apple is :22\n"
     ]
    }
   ],
   "source": [
    "### addition of two apples together with a price \n",
    "user_input=int(input(\"amount of apple:\"))\n",
    "price_apple=20\n",
    "total=price_apple + user_input\n",
    "print(f'The total apple is :{total}')"
   ]
  },
  {
   "cell_type": "code",
   "execution_count": 6,
   "id": "51fbaafb",
   "metadata": {},
   "outputs": [
    {
     "name": "stdout",
     "output_type": "stream",
     "text": [
      "Variable      Type     Data/Info\n",
      "--------------------------------\n",
      "e             int      5\n",
      "price_apple   int      20\n",
      "total         int      22\n",
      "user_input    int      2\n",
      "x             int      32\n",
      "y             float    25.0\n"
     ]
    }
   ],
   "source": [
    "x=32\n",
    "y=25.0\n",
    "e=5\n",
    "%whos"
   ]
  },
  {
   "cell_type": "code",
   "execution_count": 7,
   "id": "e8eb57b2",
   "metadata": {},
   "outputs": [
    {
     "name": "stdout",
     "output_type": "stream",
     "text": [
      "<class 'complex'>\n"
     ]
    }
   ],
   "source": [
    "c= x+4j\n",
    "print(type(c)) ### complex is also part of data type"
   ]
  },
  {
   "cell_type": "code",
   "execution_count": 8,
   "id": "5b683e2c",
   "metadata": {},
   "outputs": [
    {
     "name": "stdout",
     "output_type": "stream",
     "text": [
      "<class 'str'>\n"
     ]
    }
   ],
   "source": [
    "s=\"Hello my name is Divine\"\n",
    "print((type(s)))"
   ]
  },
  {
   "cell_type": "markdown",
   "id": "fc326a49",
   "metadata": {},
   "source": [
    "## OPERATORS"
   ]
  },
  {
   "cell_type": "code",
   "execution_count": 12,
   "id": "a76806e7",
   "metadata": {},
   "outputs": [
    {
     "name": "stdout",
     "output_type": "stream",
     "text": [
      "57.0\n"
     ]
    }
   ],
   "source": [
    "sumofAandB = x+y\n",
    "print(sumofAandB)"
   ]
  },
  {
   "cell_type": "code",
   "execution_count": 14,
   "id": "706c66e5",
   "metadata": {},
   "outputs": [
    {
     "name": "stdout",
     "output_type": "stream",
     "text": [
      "46298.25\n"
     ]
    }
   ],
   "source": [
    "v= ((x+y)**3)/4\n",
    "print(v)"
   ]
  },
  {
   "cell_type": "code",
   "execution_count": 16,
   "id": "8e909779",
   "metadata": {},
   "outputs": [
    {
     "data": {
      "text/plain": [
       "float"
      ]
     },
     "execution_count": 16,
     "metadata": {},
     "output_type": "execute_result"
    }
   ],
   "source": [
    "type(v)"
   ]
  },
  {
   "cell_type": "code",
   "execution_count": 17,
   "id": "89b90740",
   "metadata": {},
   "outputs": [],
   "source": [
    "s1=\"Hello World\"## joining to string together \n",
    "s2=\"Early Code\"\n",
    "s= s1 + s2"
   ]
  },
  {
   "cell_type": "code",
   "execution_count": 19,
   "id": "2c956955",
   "metadata": {},
   "outputs": [
    {
     "name": "stdout",
     "output_type": "stream",
     "text": [
      "Hello WorldEarly Code\n"
     ]
    },
    {
     "data": {
      "text/plain": [
       "str"
      ]
     },
     "execution_count": 19,
     "metadata": {},
     "output_type": "execute_result"
    }
   ],
   "source": [
    "print(s)\n",
    "type(s)"
   ]
  },
  {
   "cell_type": "code",
   "execution_count": 22,
   "id": "a5d9e9e4",
   "metadata": {},
   "outputs": [
    {
     "data": {
      "text/plain": [
       "3"
      ]
     },
     "execution_count": 22,
     "metadata": {},
     "output_type": "execute_result"
    }
   ],
   "source": [
    "10//3## this is a coeffient the decimal point"
   ]
  },
  {
   "cell_type": "code",
   "execution_count": 21,
   "id": "253e9290",
   "metadata": {},
   "outputs": [
    {
     "data": {
      "text/plain": [
       "3.3333333333333335"
      ]
     },
     "execution_count": 21,
     "metadata": {},
     "output_type": "execute_result"
    }
   ],
   "source": [
    "10/3## the division is already set"
   ]
  },
  {
   "cell_type": "code",
   "execution_count": 23,
   "id": "b5ab214d",
   "metadata": {},
   "outputs": [
    {
     "data": {
      "text/plain": [
       "16"
      ]
     },
     "execution_count": 23,
     "metadata": {},
     "output_type": "execute_result"
    }
   ],
   "source": [
    "2**4"
   ]
  },
  {
   "cell_type": "code",
   "execution_count": 25,
   "id": "1e2c5001",
   "metadata": {},
   "outputs": [],
   "source": [
    "## 3x=3 a variable cannot stored as a digit"
   ]
  },
  {
   "cell_type": "code",
   "execution_count": 27,
   "id": "a1c1e60a",
   "metadata": {},
   "outputs": [
    {
     "name": "stdout",
     "output_type": "stream",
     "text": [
      "3\n"
     ]
    }
   ],
   "source": [
    "_e=3 ### under score is allowed \n",
    "print(_e)"
   ]
  },
  {
   "cell_type": "markdown",
   "id": "1bc80e17",
   "metadata": {},
   "source": [
    "## Type bools or comparison"
   ]
  },
  {
   "cell_type": "code",
   "execution_count": 28,
   "id": "89c4dd26",
   "metadata": {},
   "outputs": [],
   "source": [
    "a=True\n",
    "b=False\n",
    "c=True"
   ]
  },
  {
   "cell_type": "code",
   "execution_count": 30,
   "id": "7126b68e",
   "metadata": {},
   "outputs": [
    {
     "name": "stdout",
     "output_type": "stream",
     "text": [
      "Variable      Type     Data/Info\n",
      "--------------------------------\n",
      "a             bool     True\n",
      "b             bool     False\n",
      "c             bool     True\n",
      "e             int      5\n",
      "price_apple   int      20\n",
      "s             str      Hello WorldEarly Code\n",
      "s1            str      Hello World\n",
      "s2            str      Early Code\n",
      "sumofAandB    float    57.0\n",
      "total         int      22\n",
      "user_input    int      2\n",
      "v             float    46298.25\n",
      "x             int      32\n",
      "y             float    25.0\n"
     ]
    }
   ],
   "source": [
    "%whos"
   ]
  },
  {
   "cell_type": "code",
   "execution_count": 33,
   "id": "4cda4353",
   "metadata": {},
   "outputs": [
    {
     "name": "stdout",
     "output_type": "stream",
     "text": [
      "False\n",
      "False\n"
     ]
    }
   ],
   "source": [
    "print(a and b)\n",
    "print(c and a)"
   ]
  },
  {
   "cell_type": "code",
   "execution_count": 34,
   "id": "4077e23d",
   "metadata": {},
   "outputs": [
    {
     "name": "stdout",
     "output_type": "stream",
     "text": [
      "False\n",
      "True\n",
      "True\n"
     ]
    }
   ],
   "source": [
    "print(a or b)\n",
    "print(b or c)\n",
    "print(a or c)"
   ]
  },
  {
   "cell_type": "code",
   "execution_count": 35,
   "id": "b1f939f7",
   "metadata": {},
   "outputs": [
    {
     "data": {
      "text/plain": [
       "True"
      ]
     },
     "execution_count": 35,
     "metadata": {},
     "output_type": "execute_result"
    }
   ],
   "source": [
    "not a"
   ]
  },
  {
   "cell_type": "code",
   "execution_count": 36,
   "id": "9ab6fd0b",
   "metadata": {},
   "outputs": [
    {
     "data": {
      "text/plain": [
       "True"
      ]
     },
     "execution_count": 36,
     "metadata": {},
     "output_type": "execute_result"
    }
   ],
   "source": [
    "not b"
   ]
  },
  {
   "cell_type": "code",
   "execution_count": 37,
   "id": "578df321",
   "metadata": {},
   "outputs": [
    {
     "data": {
      "text/plain": [
       "False"
      ]
     },
     "execution_count": 37,
     "metadata": {},
     "output_type": "execute_result"
    }
   ],
   "source": [
    "not c## Not is the opposite of everything"
   ]
  },
  {
   "cell_type": "code",
   "execution_count": 39,
   "id": "cb547251",
   "metadata": {},
   "outputs": [
    {
     "data": {
      "text/plain": [
       "True"
      ]
     },
     "execution_count": 39,
     "metadata": {},
     "output_type": "execute_result"
    }
   ],
   "source": [
    "not((a and b) or (c and b))"
   ]
  },
  {
   "cell_type": "code",
   "execution_count": 40,
   "id": "1a0c2d28",
   "metadata": {},
   "outputs": [],
   "source": [
    "## TRUE and false are just booleans "
   ]
  },
  {
   "cell_type": "markdown",
   "id": "ce52fc05",
   "metadata": {},
   "source": [
    "## COMPARISONS"
   ]
  },
  {
   "cell_type": "code",
   "execution_count": 42,
   "id": "eb49e673",
   "metadata": {},
   "outputs": [
    {
     "name": "stdout",
     "output_type": "stream",
     "text": [
      "True\n"
     ]
    }
   ],
   "source": [
    "C=2>5\n",
    "print(c)"
   ]
  },
  {
   "cell_type": "code",
   "execution_count": 43,
   "id": "efe71822",
   "metadata": {},
   "outputs": [
    {
     "name": "stdout",
     "output_type": "stream",
     "text": [
      "False\n"
     ]
    }
   ],
   "source": [
    "f=3==4## this is when comparison work with booleans \n",
    "print(f)"
   ]
  },
  {
   "cell_type": "code",
   "execution_count": 45,
   "id": "c27eb0e8",
   "metadata": {},
   "outputs": [
    {
     "data": {
      "text/plain": [
       "True"
      ]
     },
     "execution_count": 45,
     "metadata": {},
     "output_type": "execute_result"
    }
   ],
   "source": [
    "3==3.0 ## Becasue its a comparison of two numbers not float or interger \n"
   ]
  },
  {
   "cell_type": "code",
   "execution_count": 48,
   "id": "4fbe02e6",
   "metadata": {},
   "outputs": [
    {
     "name": "stdout",
     "output_type": "stream",
     "text": [
      "False\n"
     ]
    }
   ],
   "source": [
    "c=2>3\n",
    "type(c)\n",
    "print(c)"
   ]
  },
  {
   "cell_type": "code",
   "execution_count": 49,
   "id": "a5a23b0d",
   "metadata": {},
   "outputs": [],
   "source": [
    "x=4\n",
    "y=9\n",
    "z=8.3\n",
    "r= -3\n"
   ]
  },
  {
   "cell_type": "code",
   "execution_count": 50,
   "id": "3266370e",
   "metadata": {},
   "outputs": [
    {
     "data": {
      "text/plain": [
       "True"
      ]
     },
     "execution_count": 50,
     "metadata": {},
     "output_type": "execute_result"
    }
   ],
   "source": [
    "(x<y) and (y>r) or (y>x) and (Y>z)"
   ]
  },
  {
   "cell_type": "code",
   "execution_count": 1,
   "id": "50846253",
   "metadata": {},
   "outputs": [
    {
     "data": {
      "text/plain": [
       "False"
      ]
     },
     "execution_count": 1,
     "metadata": {},
     "output_type": "execute_result"
    }
   ],
   "source": [
    "False or False and True"
   ]
  },
  {
   "cell_type": "code",
   "execution_count": 2,
   "id": "f4a836f4",
   "metadata": {},
   "outputs": [
    {
     "name": "stdout",
     "output_type": "stream",
     "text": [
      "False\n"
     ]
    }
   ],
   "source": [
    "print((not(2!=3) and True) or (False and True))"
   ]
  },
  {
   "cell_type": "markdown",
   "id": "6dff17e7",
   "metadata": {},
   "source": [
    "## Types of Function "
   ]
  },
  {
   "cell_type": "code",
   "execution_count": 4,
   "id": "10d12957",
   "metadata": {},
   "outputs": [
    {
     "name": "stdout",
     "output_type": "stream",
     "text": [
      "5 3\n"
     ]
    }
   ],
   "source": [
    "print(round(5.4456),3)"
   ]
  },
  {
   "cell_type": "code",
   "execution_count": 3,
   "id": "41dd3810",
   "metadata": {},
   "outputs": [
    {
     "name": "stdout",
     "output_type": "stream",
     "text": [
      "5 2\n"
     ]
    }
   ],
   "source": [
    "print(round(5.456),2)"
   ]
  },
  {
   "cell_type": "code",
   "execution_count": 67,
   "id": "a03ef2bc",
   "metadata": {},
   "outputs": [
    {
     "data": {
      "text/plain": [
       "False"
      ]
     },
     "execution_count": 67,
     "metadata": {},
     "output_type": "execute_result"
    }
   ],
   "source": [
    "isinstance(4.0,int) ## this just work with booleans "
   ]
  },
  {
   "cell_type": "code",
   "execution_count": 68,
   "id": "3c0e486e",
   "metadata": {},
   "outputs": [
    {
     "data": {
      "text/plain": [
       "16"
      ]
     },
     "execution_count": 68,
     "metadata": {},
     "output_type": "execute_result"
    }
   ],
   "source": [
    "pow(2,4)"
   ]
  },
  {
   "cell_type": "code",
   "execution_count": 69,
   "id": "b9c7ba39",
   "metadata": {},
   "outputs": [
    {
     "data": {
      "text/plain": [
       "16"
      ]
     },
     "execution_count": 69,
     "metadata": {},
     "output_type": "execute_result"
    }
   ],
   "source": [
    "2**4"
   ]
  },
  {
   "cell_type": "code",
   "execution_count": 70,
   "id": "c0e0f051",
   "metadata": {},
   "outputs": [
    {
     "data": {
      "text/plain": [
       "243"
      ]
     },
     "execution_count": 70,
     "metadata": {},
     "output_type": "execute_result"
    }
   ],
   "source": [
    "pow(3,5)"
   ]
  },
  {
   "cell_type": "code",
   "execution_count": 71,
   "id": "4af0ce2f",
   "metadata": {},
   "outputs": [
    {
     "data": {
      "text/plain": [
       "243"
      ]
     },
     "execution_count": 71,
     "metadata": {},
     "output_type": "execute_result"
    }
   ],
   "source": [
    "3**5"
   ]
  },
  {
   "cell_type": "code",
   "execution_count": 72,
   "id": "188f8509",
   "metadata": {},
   "outputs": [
    {
     "data": {
      "text/plain": [
       "1"
      ]
     },
     "execution_count": 72,
     "metadata": {},
     "output_type": "execute_result"
    }
   ],
   "source": [
    "pow(3,4,2)## The 2 at the end act has a reminder"
   ]
  },
  {
   "cell_type": "code",
   "execution_count": 73,
   "id": "652f515c",
   "metadata": {},
   "outputs": [
    {
     "data": {
      "text/plain": [
       "1"
      ]
     },
     "execution_count": 73,
     "metadata": {},
     "output_type": "execute_result"
    }
   ],
   "source": [
    "pow(25,5,2)## pow function"
   ]
  },
  {
   "cell_type": "code",
   "execution_count": 74,
   "id": "d6d2289e",
   "metadata": {},
   "outputs": [
    {
     "data": {
      "text/plain": [
       "9"
      ]
     },
     "execution_count": 74,
     "metadata": {},
     "output_type": "execute_result"
    }
   ],
   "source": [
    "27//3"
   ]
  },
  {
   "cell_type": "code",
   "execution_count": null,
   "id": "5997e2b4",
   "metadata": {},
   "outputs": [],
   "source": [
    "## input()"
   ]
  },
  {
   "cell_type": "code",
   "execution_count": 75,
   "id": "f5d1007a",
   "metadata": {},
   "outputs": [
    {
     "name": "stdout",
     "output_type": "stream",
     "text": [
      "what is the number:4\n"
     ]
    },
    {
     "data": {
      "text/plain": [
       "str"
      ]
     },
     "execution_count": 75,
     "metadata": {},
     "output_type": "execute_result"
    }
   ],
   "source": [
    "x=input(\"what is the number:\")\n",
    "type(x)"
   ]
  },
  {
   "cell_type": "code",
   "execution_count": 76,
   "id": "015a17af",
   "metadata": {},
   "outputs": [
    {
     "name": "stdout",
     "output_type": "stream",
     "text": [
      "What is the number:67\n"
     ]
    },
    {
     "data": {
      "text/plain": [
       "int"
      ]
     },
     "execution_count": 76,
     "metadata": {},
     "output_type": "execute_result"
    }
   ],
   "source": [
    "x=int(input(\"What is the number:\"))\n",
    "type(x)"
   ]
  },
  {
   "cell_type": "code",
   "execution_count": 77,
   "id": "717cdc1c",
   "metadata": {},
   "outputs": [
    {
     "name": "stdout",
     "output_type": "stream",
     "text": [
      "33\n"
     ]
    }
   ],
   "source": [
    "print(x-34)"
   ]
  },
  {
   "cell_type": "code",
   "execution_count": 78,
   "id": "404c1fe6",
   "metadata": {},
   "outputs": [
    {
     "name": "stdout",
     "output_type": "stream",
     "text": [
      "what is the decimal number:67.0\n"
     ]
    },
    {
     "data": {
      "text/plain": [
       "float"
      ]
     },
     "execution_count": 78,
     "metadata": {},
     "output_type": "execute_result"
    }
   ],
   "source": [
    "f=float(input(\"what is the decimal number:\"))\n",
    "type(f)"
   ]
  },
  {
   "cell_type": "code",
   "execution_count": 81,
   "id": "6bb58358",
   "metadata": {},
   "outputs": [
    {
     "name": "stdout",
     "output_type": "stream",
     "text": [
      "Help on built-in function pow in module builtins:\n",
      "\n",
      "pow(base, exp, mod=None)\n",
      "    Equivalent to base**exp with 2 arguments or base**exp % mod with 3 arguments\n",
      "    \n",
      "    Some types, such as ints, are able to use a more efficient algorithm when\n",
      "    invoked using the three argument form.\n",
      "\n"
     ]
    }
   ],
   "source": [
    "help(pow)## This part of function that your can use as raise to power"
   ]
  },
  {
   "cell_type": "code",
   "execution_count": 84,
   "id": "3d7c43e0",
   "metadata": {},
   "outputs": [
    {
     "name": "stdout",
     "output_type": "stream",
     "text": [
      "what is the number a:60\n",
      "what is the number b:50\n",
      "A is greater than B:\n"
     ]
    }
   ],
   "source": [
    "## Control Flow(if condition)\n",
    "## print the bigger number between a and b\n",
    "a=int(input(\"what is the number a:\"))\n",
    "b=int(input(\"what is the number b:\"))\n",
    "if b>a:\n",
    "    print(\"B is greater than A\")\n",
    "elif a>b:\n",
    "    print(\"A is greater than B:\")\n",
    "elif a==b:\n",
    "    print(\"Both are equal\")"
   ]
  },
  {
   "cell_type": "code",
   "execution_count": 87,
   "id": "a32231b5",
   "metadata": {},
   "outputs": [
    {
     "name": "stdout",
     "output_type": "stream",
     "text": [
      "Result Mark:89\n",
      "Grade A\n"
     ]
    }
   ],
   "source": [
    "## write a if conditions of a grade mark\n",
    "a=int(input(\"Result Mark:\"))\n",
    "if a>85:\n",
    "    print(\"Grade A\")\n",
    "elif a < 85 and a >= 80:\n",
    "    print(\"Grade B\")\n",
    "elif a < 80 and a >= 75:\n",
    "    print(\"Grade c\")\n",
    "elif a < 75 and a >= 65:\n",
    "    print(\"Grade c+\")\n",
    "else:\n",
    "    print(\"Below Average\")"
   ]
  },
  {
   "cell_type": "code",
   "execution_count": null,
   "id": "24291e5c",
   "metadata": {},
   "outputs": [],
   "source": [
    "## write a program of a postive round up number in neither positive or negative\n",
    "## and also % 2==0"
   ]
  },
  {
   "cell_type": "code",
   "execution_count": 89,
   "id": "2620502c",
   "metadata": {},
   "outputs": [
    {
     "name": "stdout",
     "output_type": "stream",
     "text": [
      "write a real number:56.4\n",
      "Even\n"
     ]
    }
   ],
   "source": [
    "## Nexted If\n",
    "x=float(input(\"write a real number:\"))\n",
    "y= round(x)\n",
    "if x>0:\n",
    "    if y>x:\n",
    "        intposition = y-1 ## 29.4\n",
    "    else:\n",
    "        intposition = y\n",
    "else:\n",
    "    if y<x:\n",
    "        intposition = y+1\n",
    "    else:\n",
    "        intposition = y\n",
    "        \n",
    "if intposition%2==0:\n",
    "    print(\"Even\")\n",
    "else:\n",
    "    print(\"odd\")"
   ]
  },
  {
   "cell_type": "code",
   "execution_count": null,
   "id": "9cad6a56",
   "metadata": {},
   "outputs": [],
   "source": [
    "## iteration: This can be define has the act of repeating something over and over to you get a result."
   ]
  },
  {
   "cell_type": "code",
   "execution_count": 3,
   "id": "ba3db94f",
   "metadata": {},
   "outputs": [
    {
     "name": "stdout",
     "output_type": "stream",
     "text": [
      "what is the iteration number:10\n",
      "1\n",
      "The iteration: 1\n",
      "4\n",
      "The iteration: 2\n",
      "9\n",
      "The iteration: 3\n",
      "16\n",
      "The iteration: 4\n",
      "25\n",
      "The iteration: 5\n",
      "36\n",
      "The iteration: 6\n",
      "49\n",
      "The iteration: 7\n",
      "64\n",
      "The iteration: 8\n",
      "81\n",
      "The iteration: 9\n",
      "loop Done\n"
     ]
    }
   ],
   "source": [
    "## loops\n",
    "## The loops give a function to perform task over and over again.\n",
    "## write a iteration using the square with a user_input\n",
    "## while lOOPS\n",
    "n=int(input(\"what is the iteration number:\"))\n",
    "i=1\n",
    "while i < n:\n",
    "    print(i**2)\n",
    "    print(\"The iteration:\",i)\n",
    "    i += 1\n",
    "print(\"loop Done\")    "
   ]
  },
  {
   "cell_type": "code",
   "execution_count": 6,
   "id": "62ad7a02",
   "metadata": {},
   "outputs": [
    {
     "name": "stdout",
     "output_type": "stream",
     "text": [
      "1\n",
      "4\n",
      "25\n",
      "36\n",
      "64\n",
      "81\n",
      "100\n",
      "All Done\n"
     ]
    }
   ],
   "source": [
    "## square of numbers\n",
    "numbers=(1,2,5,6,8,9,10)\n",
    "for i in numbers:\n",
    "    print(i**2)\n",
    "    i += 1\n",
    "print(\"All Done\")"
   ]
  },
  {
   "cell_type": "code",
   "execution_count": 19,
   "id": "7beace53",
   "metadata": {},
   "outputs": [
    {
     "name": "stdout",
     "output_type": "stream",
     "text": [
      "something else\n",
      "something\n",
      "All Done!!\n"
     ]
    }
   ],
   "source": [
    "## CALCULATE THE NUMBER OF LOOP \n",
    "n=10\n",
    "i=1\n",
    "while True:\n",
    "    if i%9==0:\n",
    "        print(\"This is an even number:\",i)\n",
    "        n += 1\n",
    "        continue\n",
    "    print(\"something else\")\n",
    "    print(\"something\")\n",
    "    break\n",
    "print(\"All Done!!\")"
   ]
  },
  {
   "cell_type": "code",
   "execution_count": 20,
   "id": "ffb91a4b",
   "metadata": {},
   "outputs": [
    {
     "name": "stdout",
     "output_type": "stream",
     "text": [
      "1\n",
      "2\n",
      "3\n",
      "4\n",
      "5\n",
      "6\n",
      "7\n",
      "8\n",
      "9\n",
      "10\n",
      "[0, 1, 4, 9, 16, 25, 36, 49, 64, 81]\n"
     ]
    }
   ],
   "source": [
    "## making a list and filling the missing value with squaring them.\n",
    "L=[]\n",
    "for i in range(10):\n",
    "    print(i+1)\n",
    "    L.append(i**2)\n",
    "print(L)    "
   ]
  },
  {
   "cell_type": "code",
   "execution_count": 21,
   "id": "a8af57dc",
   "metadata": {},
   "outputs": [
    {
     "name": "stdout",
     "output_type": "stream",
     "text": [
      "2\n",
      "5\n",
      "8\n",
      "11\n",
      "14\n",
      "17\n",
      "20\n",
      "[1, 16, 49, 100, 169, 256, 361]\n"
     ]
    }
   ],
   "source": [
    "L=[]\n",
    "for i in range(1,20,3):## when printing the Three at the of the bracket its at the consecutive manner with 3 ahead of numbers.\n",
    "    print(i+1)\n",
    "    L.append(i**2)\n",
    "print(L)  "
   ]
  },
  {
   "cell_type": "code",
   "execution_count": 26,
   "id": "540a7dac",
   "metadata": {},
   "outputs": [
    {
     "name": "stdout",
     "output_type": "stream",
     "text": [
      "5 -5\n"
     ]
    }
   ],
   "source": [
    "\"\"\" Give a list of Numbers i.e[1,2,4,5,-2,-5,9,3,2], make another list that contains all the item in sorted order\n",
    "from min to max.i.e your result with another list like[-5,-2,1,2,2,3,4,5,9]\n",
    "\"\"\"\n",
    "L=[1,2,4,5,-2,-5,9,3,2]\n",
    "\n",
    "m=L[0]\n",
    "c=0\n",
    "idx=0\n",
    "for i in L:\n",
    "    if i<m:\n",
    "        m=i\n",
    "        idx=c\n",
    "    c+=1\n",
    "print(idx,m)    "
   ]
  },
  {
   "cell_type": "markdown",
   "id": "4979d034",
   "metadata": {},
   "source": [
    "## function"
   ]
  },
  {
   "cell_type": "code",
   "execution_count": 28,
   "id": "4161da43",
   "metadata": {},
   "outputs": [
    {
     "name": "stdout",
     "output_type": "stream",
     "text": [
      "welcome to functions\n"
     ]
    }
   ],
   "source": [
    "## functions\n",
    "def print_sucess():\n",
    "    \"\"\"this will print the hello from the beneath and its makes it more efficient.\n",
    "    \"\"\"\n",
    "    print(\"welcome to functions\")\n",
    "print_sucess()    "
   ]
  },
  {
   "cell_type": "code",
   "execution_count": 35,
   "id": "d4708469",
   "metadata": {},
   "outputs": [
    {
     "name": "stdout",
     "output_type": "stream",
     "text": [
      "fuel\n",
      "Good job\n"
     ]
    }
   ],
   "source": [
    "## write a function that tells the user the massage needed in formating a string only but not a interger\n",
    "def printmsg(msg):\n",
    "    if isinstance(msg,str):\n",
    "        print(msg)\n",
    "        print(\"Good job\")\n",
    "        \n",
    "    else:\n",
    "        print(\"The input is incorrect and not a string\")\n",
    "        print(\"Here is the type of what you have supplied:\",type(msg))\n",
    "printmsg(\"fuel\")        "
   ]
  },
  {
   "cell_type": "code",
   "execution_count": 38,
   "id": "823f4a87",
   "metadata": {},
   "outputs": [
    {
     "name": "stdout",
     "output_type": "stream",
     "text": [
      "Help on function printmsg in module __main__:\n",
      "\n",
      "printmsg(msg)\n",
      "    ## write a function that tells the user the massage needed in formating a string only but not a interger\n",
      "\n"
     ]
    }
   ],
   "source": [
    "help(printmsg)"
   ]
  },
  {
   "cell_type": "code",
   "execution_count": 39,
   "id": "f6eee564",
   "metadata": {},
   "outputs": [
    {
     "name": "stdout",
     "output_type": "stream",
     "text": [
      "The input is incorrect and not a string\n",
      "Here is the type of what you have supplied: <class 'int'>\n"
     ]
    }
   ],
   "source": [
    "printmsg(32)"
   ]
  },
  {
   "cell_type": "code",
   "execution_count": 40,
   "id": "f66af155",
   "metadata": {},
   "outputs": [
    {
     "name": "stdout",
     "output_type": "stream",
     "text": [
      "i love python\n",
      "Good job\n"
     ]
    }
   ],
   "source": [
    "d=\"i love python\"##This help because you dont need to write this task again just call the function and input your data inside\n",
    "printmsg(d)"
   ]
  },
  {
   "cell_type": "code",
   "execution_count": 44,
   "id": "2d42ac23",
   "metadata": {},
   "outputs": [],
   "source": [
    "printmsg?"
   ]
  },
  {
   "cell_type": "code",
   "execution_count": 52,
   "id": "bced91ae",
   "metadata": {},
   "outputs": [],
   "source": [
    "def mypow(a,b):\n",
    "    \"\"\"This compute the digits in them for it to function properly\"\"\"\n",
    "    c=a**b\n",
    "    if isinstance(a, b):\n",
    "        print(c)\n",
    "    else:\n",
    "        print(\"This is a wrong input,try again\",type(a),type(b))   "
   ]
  },
  {
   "cell_type": "code",
   "execution_count": 53,
   "id": "30af4aef",
   "metadata": {},
   "outputs": [
    {
     "ename": "TypeError",
     "evalue": "isinstance() arg 2 must be a type, a tuple of types, or a union",
     "output_type": "error",
     "traceback": [
      "\u001b[1;31m---------------------------------------------------------------------------\u001b[0m",
      "\u001b[1;31mTypeError\u001b[0m                                 Traceback (most recent call last)",
      "Cell \u001b[1;32mIn[53], line 1\u001b[0m\n\u001b[1;32m----> 1\u001b[0m mypow(\u001b[38;5;241m10\u001b[39m,\u001b[38;5;241m5\u001b[39m)\n",
      "Cell \u001b[1;32mIn[52], line 4\u001b[0m, in \u001b[0;36mmypow\u001b[1;34m(a, b)\u001b[0m\n\u001b[0;32m      2\u001b[0m \u001b[38;5;250m\u001b[39m\u001b[38;5;124;03m\"\"\"This compute the digits in them for it to function properly\"\"\"\u001b[39;00m\n\u001b[0;32m      3\u001b[0m c\u001b[38;5;241m=\u001b[39ma\u001b[38;5;241m*\u001b[39m\u001b[38;5;241m*\u001b[39mb\n\u001b[1;32m----> 4\u001b[0m \u001b[38;5;28;01mif\u001b[39;00m \u001b[38;5;28misinstance\u001b[39m(a, b):\n\u001b[0;32m      5\u001b[0m     \u001b[38;5;28mprint\u001b[39m(c)\n\u001b[0;32m      6\u001b[0m \u001b[38;5;28;01melse\u001b[39;00m:\n",
      "\u001b[1;31mTypeError\u001b[0m: isinstance() arg 2 must be a type, a tuple of types, or a union"
     ]
    }
   ],
   "source": [
    "mypow(10,5)"
   ]
  },
  {
   "cell_type": "code",
   "execution_count": 64,
   "id": "ba7f4507",
   "metadata": {},
   "outputs": [],
   "source": [
    "def mypow(a, b):\n",
    "        \"\"\"This compute the digits in them for it to function properly\"\"\"\n",
    "        c = a**b\n",
    "        print(c)"
   ]
  },
  {
   "cell_type": "code",
   "execution_count": 67,
   "id": "9c252eff",
   "metadata": {},
   "outputs": [
    {
     "name": "stdout",
     "output_type": "stream",
     "text": [
      "216\n"
     ]
    }
   ],
   "source": [
    "mypow(6,3)"
   ]
  },
  {
   "cell_type": "code",
   "execution_count": 69,
   "id": "2c405bd0",
   "metadata": {},
   "outputs": [],
   "source": [
    "mypow?"
   ]
  },
  {
   "cell_type": "code",
   "execution_count": 77,
   "id": "423a62ce",
   "metadata": {},
   "outputs": [],
   "source": [
    "def check_args(a,b,c):\n",
    "    if isinstance(a,(int,float)) and isinstance(b,(int,float)) and isinstance(c,(int,float)):\n",
    "        print((a+b+c)**2)\n",
    "    else:\n",
    "        print(\"This is neither float or interger\")"
   ]
  },
  {
   "cell_type": "code",
   "execution_count": 79,
   "id": "346e39be",
   "metadata": {},
   "outputs": [
    {
     "name": "stdout",
     "output_type": "stream",
     "text": [
      "361\n"
     ]
    }
   ],
   "source": [
    "check_args(4,5,10)"
   ]
  },
  {
   "cell_type": "code",
   "execution_count": 80,
   "id": "7a507927",
   "metadata": {},
   "outputs": [],
   "source": [
    "def sample_test(a,b,c):\n",
    "    print(\"A is:\",a)\n",
    "    print(\"B is:\",b)## SO IT THE INPUT YOU GET THE FUNCTION WHAT IT WILL PRINT OUT FOR YOU \n",
    "    print(\"C is:\",c) "
   ]
  },
  {
   "cell_type": "code",
   "execution_count": 81,
   "id": "01a0025e",
   "metadata": {},
   "outputs": [
    {
     "name": "stdout",
     "output_type": "stream",
     "text": [
      "A is: 3\n",
      "B is: 8\n",
      "C is: 10\n"
     ]
    }
   ],
   "source": [
    "sample_test(3,8,10)## so the input be placed in the data is equivilent to the (a,b,c)q"
   ]
  },
  {
   "cell_type": "code",
   "execution_count": 84,
   "id": "80b7d320",
   "metadata": {},
   "outputs": [],
   "source": [
    "def d():\n",
    "    a=12\n",
    "    b=20\n",
    "    c=a+b\n",
    "    return c    "
   ]
  },
  {
   "cell_type": "code",
   "execution_count": 86,
   "id": "1d95f98a",
   "metadata": {},
   "outputs": [
    {
     "data": {
      "text/plain": [
       "32"
      ]
     },
     "execution_count": 86,
     "metadata": {},
     "output_type": "execute_result"
    }
   ],
   "source": [
    "d()"
   ]
  },
  {
   "cell_type": "code",
   "execution_count": 94,
   "id": "7af1bf06",
   "metadata": {},
   "outputs": [],
   "source": [
    "def r():\n",
    "    a=20\n",
    "    b=89\n",
    "    c=\"something fun\"\n",
    "    return a,b,c## \"Return\" has to return does value back has to bring it back to the function(other word is like print)\n",
    "\"\"\"'Return statement is more like print but using it to give a particular code function on what to do'\"\"\""
   ]
  },
  {
   "cell_type": "code",
   "execution_count": 97,
   "id": "8b4b8cb7",
   "metadata": {},
   "outputs": [
    {
     "name": "stdout",
     "output_type": "stream",
     "text": [
      "(20, 89, 'something fun')\n"
     ]
    }
   ],
   "source": [
    "xyz=r()\n",
    "print(xyz)"
   ]
  },
  {
   "cell_type": "code",
   "execution_count": 107,
   "id": "a3e66b26",
   "metadata": {},
   "outputs": [],
   "source": [
    "def f(x,c):\n",
    "    return x+c"
   ]
  },
  {
   "cell_type": "code",
   "execution_count": 109,
   "id": "f652772e",
   "metadata": {},
   "outputs": [
    {
     "data": {
      "text/plain": [
       "7"
      ]
     },
     "execution_count": 109,
     "metadata": {},
     "output_type": "execute_result"
    }
   ],
   "source": [
    "f(3,4)"
   ]
  },
  {
   "cell_type": "code",
   "execution_count": 1,
   "id": "15382650",
   "metadata": {},
   "outputs": [],
   "source": [
    "\"\"\"This is the process of adding value to a function without adding too much value in it:\"\"\"\n",
    "\n",
    "def available_time(*args):\n",
    "    s=0\n",
    "    for i in range(len(args)):\n",
    "        s += args[i]\n",
    "    return s"
   ]
  },
  {
   "cell_type": "code",
   "execution_count": 3,
   "id": "9e3db611",
   "metadata": {},
   "outputs": [
    {
     "data": {
      "text/plain": [
       "63.7"
      ]
     },
     "execution_count": 3,
     "metadata": {},
     "output_type": "execute_result"
    }
   ],
   "source": [
    "available_time(1,2,6.7,9,8,10,12,15)"
   ]
  },
  {
   "cell_type": "code",
   "execution_count": 4,
   "id": "6a7b7111",
   "metadata": {},
   "outputs": [
    {
     "name": "stdout",
     "output_type": "stream",
     "text": [
      "Help on function available_time in module __main__:\n",
      "\n",
      "available_time(*args)\n",
      "\n"
     ]
    }
   ],
   "source": [
    "help(available_time)"
   ]
  },
  {
   "cell_type": "code",
   "execution_count": 5,
   "id": "89f7e20b",
   "metadata": {},
   "outputs": [
    {
     "name": "stdout",
     "output_type": "stream",
     "text": [
      "Variable         Type        Data/Info\n",
      "--------------------------------------\n",
      "available_time   function    <function available_time at 0x00000203046BE160>\n"
     ]
    }
   ],
   "source": [
    "%whos"
   ]
  },
  {
   "cell_type": "code",
   "execution_count": 16,
   "id": "c4127990",
   "metadata": {},
   "outputs": [],
   "source": [
    "def valuableinnamesandvalue(*args):\n",
    "    for x in args:\n",
    "        print(\"This the valuable that is:\",x,\"And the value:\",args[x])"
   ]
  },
  {
   "cell_type": "raw",
   "id": "3495d55b",
   "metadata": {},
   "source": [
    "print(valuableinnamesandvalue(a= 23,B=34,c= 456 ,d= 56 ,e= 45))"
   ]
  },
  {
   "cell_type": "code",
   "execution_count": 33,
   "id": "c3fe7c02",
   "metadata": {},
   "outputs": [],
   "source": [
    "## Write a Python function that takes any number of arguments representing items and their respective prices. \n",
    "## The function should calculate and print the total cost of all the items.\n",
    "def prices_name(**args):\n",
    "    s=0\n",
    "    for x in args:\n",
    "        s += args[x]\n",
    "        print(\"The total sum of the product:\",x,\"This is the sum:\",args[x])"
   ]
  },
  {
   "cell_type": "code",
   "execution_count": 34,
   "id": "022a1792",
   "metadata": {},
   "outputs": [
    {
     "name": "stdout",
     "output_type": "stream",
     "text": [
      "The total sum of the product: apple This is the sum: 90\n",
      "The total sum of the product: banana This is the sum: 50\n",
      "The total sum of the product: tomato This is the sum: 45\n",
      "The total sum of the product: carrot This is the sum: 32\n"
     ]
    }
   ],
   "source": [
    "prices_name(apple=90,banana=50,tomato=45,carrot=32)"
   ]
  },
  {
   "cell_type": "code",
   "execution_count": 11,
   "id": "25cff832",
   "metadata": {},
   "outputs": [],
   "source": [
    "### creating a module in using it to solve cases\n",
    "### functions with similar issues.\n",
    "import sys\n",
    "sys.path.append(\"C:/BCD/\")## save it in your file"
   ]
  },
  {
   "cell_type": "code",
   "execution_count": 12,
   "id": "ae576fd8",
   "metadata": {},
   "outputs": [],
   "source": [
    "import my_universal_modules as myfs## imported this directly from our file"
   ]
  },
  {
   "cell_type": "code",
   "execution_count": 13,
   "id": "0518a105",
   "metadata": {},
   "outputs": [],
   "source": [
    "myfs.net_functions??"
   ]
  },
  {
   "cell_type": "code",
   "execution_count": 16,
   "id": "73d52a64",
   "metadata": {},
   "outputs": [
    {
     "data": {
      "text/plain": [
       "49"
      ]
     },
     "execution_count": 16,
     "metadata": {},
     "output_type": "execute_result"
    }
   ],
   "source": [
    "myfs.net_functions(2,3,4,5,7,8,20)"
   ]
  },
  {
   "cell_type": "markdown",
   "id": "2dc35847",
   "metadata": {},
   "source": [
    "## strings "
   ]
  },
  {
   "cell_type": "code",
   "execution_count": 17,
   "id": "9701f412",
   "metadata": {},
   "outputs": [
    {
     "name": "stdout",
     "output_type": "stream",
     "text": [
      "hello 27 you welcome 89 python is fun\n"
     ]
    }
   ],
   "source": [
    "print(\"hello\",27,\"you welcome\",89,\"python is fun\")"
   ]
  },
  {
   "cell_type": "markdown",
   "id": "c1c486e6",
   "metadata": {},
   "source": [
    "## concatenate strings "
   ]
  },
  {
   "cell_type": "code",
   "execution_count": 18,
   "id": "116b6add",
   "metadata": {},
   "outputs": [
    {
     "name": "stdout",
     "output_type": "stream",
     "text": [
      "python is fun to code with i love python because its a simple language\n"
     ]
    }
   ],
   "source": [
    "s=\"python is fun to code with\"\n",
    "v=\"i love python because its a simple language\"\n",
    "t= s+\" \"+v## The space between the quotation is a string.to avoid joining them been join together.\n",
    "print(t)"
   ]
  },
  {
   "cell_type": "code",
   "execution_count": 20,
   "id": "9fceeb10",
   "metadata": {},
   "outputs": [
    {
     "name": "stdout",
     "output_type": "stream",
     "text": [
      "The price of the book is 20\n"
     ]
    }
   ],
   "source": [
    "price= 20\n",
    "v=\"The price of the book\"\n",
    "join=v+ \" is \" +str(price)\n",
    "print(join)\n"
   ]
  },
  {
   "cell_type": "markdown",
   "id": "06647e68",
   "metadata": {},
   "source": [
    "## mutiline language"
   ]
  },
  {
   "cell_type": "code",
   "execution_count": 24,
   "id": "3214a23b",
   "metadata": {},
   "outputs": [
    {
     "name": "stdout",
     "output_type": "stream",
     "text": [
      "Multiline is datatype that help us format our code a certain neat mannar \n",
      "Welcome to Mulltiline datatype\n",
      "\n"
     ]
    },
    {
     "data": {
      "text/plain": [
       "str"
      ]
     },
     "execution_count": 24,
     "metadata": {},
     "output_type": "execute_result"
    }
   ],
   "source": [
    "a=\"\"\"Multiline is datatype that help us format our code a certain neat mannar \n",
    "Welcome to Mulltiline datatype\n",
    "\"\"\"\n",
    "print(a)\n",
    "type(a)"
   ]
  },
  {
   "cell_type": "markdown",
   "id": "119d1233",
   "metadata": {},
   "source": [
    "## MULTI-LINE COMMENT"
   ]
  },
  {
   "cell_type": "code",
   "execution_count": 23,
   "id": "626797f2",
   "metadata": {},
   "outputs": [
    {
     "data": {
      "text/plain": [
       "'Without variable assign to this multi line is just a comment which can \\nignored with the interpreter.\\n'"
      ]
     },
     "execution_count": 23,
     "metadata": {},
     "output_type": "execute_result"
    }
   ],
   "source": [
    "\"\"\"Without variable assign to this multi line is just a comment which can \n",
    "ignored with the interpreter.\n",
    "\"\"\""
   ]
  },
  {
   "cell_type": "markdown",
   "id": "8c57600e",
   "metadata": {},
   "source": [
    "## indexing some strings"
   ]
  },
  {
   "cell_type": "code",
   "execution_count": 28,
   "id": "838eec6e",
   "metadata": {},
   "outputs": [
    {
     "name": "stdout",
     "output_type": "stream",
     "text": [
      "H\n"
     ]
    }
   ],
   "source": [
    "a=\"How are you doing today\"##Remember the index start with 0 and its like 9 is 8\n",
    "print(a[0])"
   ]
  },
  {
   "cell_type": "code",
   "execution_count": 29,
   "id": "1795beef",
   "metadata": {},
   "outputs": [
    {
     "data": {
      "text/plain": [
       "'w'"
      ]
     },
     "execution_count": 29,
     "metadata": {},
     "output_type": "execute_result"
    }
   ],
   "source": [
    "a[2]"
   ]
  },
  {
   "cell_type": "code",
   "execution_count": 30,
   "id": "1e8b9f34",
   "metadata": {},
   "outputs": [
    {
     "data": {
      "text/plain": [
       "' are y'"
      ]
     },
     "execution_count": 30,
     "metadata": {},
     "output_type": "execute_result"
    }
   ],
   "source": [
    "a[3:9] ## space are always included"
   ]
  },
  {
   "cell_type": "code",
   "execution_count": 31,
   "id": "ea8b6fdc",
   "metadata": {},
   "outputs": [
    {
     "data": {
      "text/plain": [
       "'o'"
      ]
     },
     "execution_count": 31,
     "metadata": {},
     "output_type": "execute_result"
    }
   ],
   "source": [
    "a[-10]"
   ]
  },
  {
   "cell_type": "code",
   "execution_count": 34,
   "id": "01f25e75",
   "metadata": {},
   "outputs": [
    {
     "data": {
      "text/plain": [
       "' doing to'"
      ]
     },
     "execution_count": 34,
     "metadata": {},
     "output_type": "execute_result"
    }
   ],
   "source": [
    "a[-12:-3]"
   ]
  },
  {
   "cell_type": "code",
   "execution_count": 37,
   "id": "f2ec751b",
   "metadata": {},
   "outputs": [
    {
     "name": "stdout",
     "output_type": "stream",
     "text": [
      "5\n",
      "23\n"
     ]
    }
   ],
   "source": [
    "print(len(a[3:8]))\n",
    "print(len(a))"
   ]
  },
  {
   "cell_type": "markdown",
   "id": "bd46105a",
   "metadata": {},
   "source": [
    "## string Method/function"
   ]
  },
  {
   "cell_type": "code",
   "execution_count": 42,
   "id": "f2e94351",
   "metadata": {},
   "outputs": [
    {
     "name": "stdout",
     "output_type": "stream",
     "text": [
      "python is fun\n",
      "PYTHON IS FUN\n",
      "Coding is fun\n"
     ]
    }
   ],
   "source": [
    "a=\"python is fun\"\n",
    "b=a.strip()## this strip the spaces in between from the beginning and from the End.\n",
    "print(a.lower())\n",
    "print(a.upper())\n",
    "print(a.replace(\"python\",\"Coding\"))"
   ]
  },
  {
   "cell_type": "code",
   "execution_count": 44,
   "id": "87ecc928",
   "metadata": {
    "scrolled": true
   },
   "outputs": [
    {
     "name": "stdout",
     "output_type": "stream",
     "text": [
      "fun is python\n"
     ]
    }
   ],
   "source": [
    "a=\"   fun is python \"\n",
    "v=a.strip()\n",
    "print(v)"
   ]
  },
  {
   "cell_type": "code",
   "execution_count": 49,
   "id": "2502140e",
   "metadata": {},
   "outputs": [
    {
     "name": "stdout",
     "output_type": "stream",
     "text": [
      "['gbhq', ',klim', ',moon', 'jkl', '']\n"
     ]
    }
   ],
   "source": [
    "a=\"gbhq;,klim;,moon;jkl;\"\n",
    "v=a.split(\";\")\n",
    "print(v)"
   ]
  },
  {
   "cell_type": "markdown",
   "id": "37ea4054",
   "metadata": {},
   "source": [
    "## function be explained in python for datascience in time:6:34:00"
   ]
  },
  {
   "cell_type": "code",
   "execution_count": 1,
   "id": "3b732ce8",
   "metadata": {},
   "outputs": [],
   "source": [
    "def gg(s=5):### 5 is the default value incase dey was no input even in the function 5 will be printed\n",
    "    print(s)"
   ]
  },
  {
   "cell_type": "code",
   "execution_count": 2,
   "id": "88d26b8d",
   "metadata": {},
   "outputs": [
    {
     "name": "stdout",
     "output_type": "stream",
     "text": [
      "5\n"
     ]
    }
   ],
   "source": [
    "gg()## five is still even without no input."
   ]
  },
  {
   "cell_type": "code",
   "execution_count": 3,
   "id": "7e88cfca",
   "metadata": {},
   "outputs": [
    {
     "name": "stdout",
     "output_type": "stream",
     "text": [
      "90\n"
     ]
    }
   ],
   "source": [
    "gg(90)## input given so it printed 90"
   ]
  },
  {
   "cell_type": "code",
   "execution_count": 5,
   "id": "139fd950",
   "metadata": {},
   "outputs": [
    {
     "name": "stdout",
     "output_type": "stream",
     "text": [
      "[-10, 4, 8, 9]\n",
      "[-10, 4, 8, 9]\n"
     ]
    }
   ],
   "source": [
    "L=[1,4,8,9]\n",
    "L2=L\n",
    "L2[0]=-10## its changed the value in the list by us assigning it to another list.\n",
    "print(L2)\n",
    "print(L)"
   ]
  },
  {
   "cell_type": "code",
   "execution_count": null,
   "id": "35bb6624",
   "metadata": {},
   "outputs": [],
   "source": [
    "### lets make a default list in function\n",
    "def gh(L2[1,2,3]): ## The list is the default \n",
    "    print(gh)"
   ]
  },
  {
   "cell_type": "code",
   "execution_count": 8,
   "id": "a90d1279",
   "metadata": {},
   "outputs": [
    {
     "data": {
      "text/plain": [
       "False"
      ]
     },
     "execution_count": 8,
     "metadata": {},
     "output_type": "execute_result"
    }
   ],
   "source": [
    "\"abc\" in \"gdfftftdeuhygshvjsb\"\n"
   ]
  },
  {
   "cell_type": "code",
   "execution_count": 10,
   "id": "6c02ea58",
   "metadata": {},
   "outputs": [
    {
     "data": {
      "text/plain": [
       "True"
      ]
     },
     "execution_count": 10,
     "metadata": {},
     "output_type": "execute_result"
    }
   ],
   "source": [
    "'abc'=='abc'"
   ]
  },
  {
   "cell_type": "code",
   "execution_count": 12,
   "id": "67790474",
   "metadata": {},
   "outputs": [
    {
     "name": "stdout",
     "output_type": "stream",
     "text": [
      "string are important to \"ESCAPE\" in python\n"
     ]
    }
   ],
   "source": [
    "## escape character\n",
    "print(\"string are important to \\\"ESCAPE\\\" in python\")"
   ]
  },
  {
   "cell_type": "code",
   "execution_count": 13,
   "id": "94afbdbb",
   "metadata": {},
   "outputs": [
    {
     "name": "stdout",
     "output_type": "stream",
     "text": [
      "we are always active and \"available\" in the office\n"
     ]
    }
   ],
   "source": [
    "print('we are always active and \"available\" in the office')"
   ]
  },
  {
   "cell_type": "code",
   "execution_count": null,
   "id": "b174c6a5",
   "metadata": {},
   "outputs": [],
   "source": [
    "print(\"we are python progra\")"
   ]
  }
 ],
 "metadata": {
  "kernelspec": {
   "display_name": "Python 3 (ipykernel)",
   "language": "python",
   "name": "python3"
  },
  "language_info": {
   "codemirror_mode": {
    "name": "ipython",
    "version": 3
   },
   "file_extension": ".py",
   "mimetype": "text/x-python",
   "name": "python",
   "nbconvert_exporter": "python",
   "pygments_lexer": "ipython3",
   "version": "3.11.5"
  }
 },
 "nbformat": 4,
 "nbformat_minor": 5
}
