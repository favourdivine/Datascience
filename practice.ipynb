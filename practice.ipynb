{
 "cells": [
  {
   "cell_type": "code",
   "execution_count": 41,
   "id": "d987b3b9",
   "metadata": {},
   "outputs": [
    {
     "name": "stdout",
     "output_type": "stream",
     "text": [
      "ppppppppp\n",
      "yyyyyyyyy\n",
      "ttttttttt\n",
      "hhhhhhhhh\n",
      "ooooooooo\n",
      "nnnnnnnnn\n",
      "         \n",
      "iiiiiiiii\n",
      "sssssssss\n",
      "         \n",
      "ggggggggg\n",
      "rrrrrrrrr\n",
      "eeeeeeeee\n",
      "aaaaaaaaa\n",
      "ttttttttt\n"
     ]
    }
   ],
   "source": [
    "word='python is great'\n",
    "for h in word:\n",
    "    print(h*9) ##for sjust to hold a variable for you, so you can manipulate the variable in it."
   ]
  },
  {
   "cell_type": "code",
   "execution_count": 39,
   "id": "068a81cd",
   "metadata": {},
   "outputs": [
    {
     "name": "stdout",
     "output_type": "stream",
     "text": [
      "what is your name:favour\n"
     ]
    }
   ],
   "source": [
    "word='favour'\n",
    "h=input('what is your name:')\n",
    "for go in word:\n",
    "    if h == go:\n",
    "        print(f'you are right')\n",
    "        break"
   ]
  },
  {
   "cell_type": "code",
   "execution_count": 36,
   "id": "29090f3d",
   "metadata": {},
   "outputs": [
    {
     "name": "stdout",
     "output_type": "stream",
     "text": [
      "PLAYER two WIN!!!!!\n",
      "player one score:3\n",
      "player two score:8\n",
      "DRAW\n",
      "player one score:7\n",
      "player two score:7\n",
      "PLAYER ONE WIN!!!!!\n",
      "player one score:8\n",
      "player two score:7\n",
      "PLAYER two WIN!!!!!\n",
      "player one score:7\n",
      "player two score:8\n",
      "PLAYER two WIN!!!!!\n",
      "player one score:4\n",
      "player two score:9\n",
      "PLAYER two WIN!!!!!\n",
      "player one score:6\n",
      "player two score:9\n",
      "PLAYER two WIN!!!!!\n",
      "player one score:4\n",
      "player two score:9\n",
      "PLAYER two WIN!!!!!\n",
      "player one score:6\n",
      "player two score:8\n",
      "PLAYER two WIN!!!!!\n",
      "player one score:6\n",
      "player two score:7\n",
      "PLAYER two WIN!!!!!\n",
      "player one score:6\n",
      "player two score:10\n",
      "PLAYER ONE WIN!!!!!\n",
      "player one score:5\n",
      "player two score:2\n",
      "PLAYER ONE WIN!!!!!\n",
      "player one score:11\n",
      "player two score:6\n",
      "DRAW\n",
      "player one score:8\n",
      "player two score:8\n",
      "PLAYER two WIN!!!!!\n",
      "player one score:5\n",
      "player two score:11\n",
      "PLAYER two WIN!!!!!\n",
      "player one score:5\n",
      "player two score:11\n",
      "DRAW\n",
      "player one score:5\n",
      "player two score:5\n",
      "PLAYER two WIN!!!!!\n",
      "player one score:7\n",
      "player two score:8\n",
      "PLAYER two WIN!!!!!\n",
      "player one score:3\n",
      "player two score:4\n",
      "PLAYER two WIN!!!!!\n",
      "player one score:9\n",
      "player two score:11\n",
      "PLAYER two WIN!!!!!\n",
      "player one score:6\n",
      "player two score:8\n",
      "PLAYER two WIN!!!!!\n",
      "player one score:7\n",
      "player two score:9\n",
      "PLAYER two WIN!!!!!\n",
      "player one score:5\n",
      "player two score:9\n",
      "PLAYER ONE WIN!!!!!\n",
      "player one score:10\n",
      "player two score:5\n",
      "PLAYER two WIN!!!!!\n",
      "player one score:8\n",
      "player two score:10\n",
      "DRAW\n",
      "player one score:10\n",
      "player two score:10\n",
      "PLAYER two WIN!!!!!\n",
      "player one score:5\n",
      "player two score:7\n",
      "PLAYER two WIN!!!!!\n",
      "player one score:5\n",
      "player two score:7\n",
      "PLAYER ONE WIN!!!!!\n",
      "player one score:10\n",
      "player two score:4\n",
      "PLAYER two WIN!!!!!\n",
      "player one score:9\n",
      "player two score:10\n",
      "its a draw losers \n"
     ]
    }
   ],
   "source": [
    "score1=0\n",
    "score2=0\n",
    "import random\n",
    "for R in range(1,30):\n",
    "    dice1=(random.randint(1,6)+random.randint(1,6))\n",
    "    dice2=(random.randint(1,6)+random.randint(1,6))\n",
    "    if dice1 > dice2:\n",
    "        score1+10\n",
    "        print('PLAYER ONE WIN!!!!!')\n",
    "        print(f'player one score:{dice1}')\n",
    "        print(f'player two score:{dice2}')      \n",
    "    \n",
    "    elif dice2 > dice1:\n",
    "        score1+10\n",
    "        print('PLAYER two WIN!!!!!')\n",
    "        print(f'player one score:{dice1}')\n",
    "        print(f'player two score:{dice2}')\n",
    "              \n",
    "    elif dice2 == dice1:\n",
    "        score1+5 \n",
    "        score2+5\n",
    "        print('DRAW')\n",
    "        print(f'player one score:{dice1}')\n",
    "        print(f'player two score:{dice2}')\n",
    "if score1>score2:\n",
    "              print(f'PLAYER ONE IS THE OVERALL WINNER!!{score1}')\n",
    "elif score2>score1:\n",
    "              print(f'PLAYER TWO IS THE OVERALL WINNER!!{score2}')\n",
    "else:\n",
    "     print('its a draw losers ')"
   ]
  },
  {
   "cell_type": "code",
   "execution_count": 37,
   "id": "3c618842",
   "metadata": {},
   "outputs": [],
   "source": [
    "## while pratice "
   ]
  },
  {
   "cell_type": "code",
   "execution_count": 42,
   "id": "f47003d7",
   "metadata": {},
   "outputs": [],
   "source": [
    "#EXERCISE\n",
    "#RANDOMLY GENERATE A NUMBER AND WRITE A PROGRAM TO ASK A USER TO GUESS UNTIL IT IS CORRECT USE A CONDITION TO GIVE HINT"
   ]
  },
  {
   "cell_type": "code",
   "execution_count": 49,
   "id": "8d33592f",
   "metadata": {},
   "outputs": [
    {
     "name": "stdout",
     "output_type": "stream",
     "text": [
      "what is the guess number:90\n",
      "guess to high 90\n",
      "what is the guess number:12\n",
      "guess to low 12\n",
      "what is the guess number:20\n",
      "guess to low 20\n",
      "what is the guess number:30\n",
      "guess to high 30\n",
      "what is the guess number:25\n",
      "guess to high 25\n",
      "what is the guess number:22\n",
      "guess to low 22\n",
      "what is the guess number:24\n",
      "guess to high 24\n",
      "what is the guess number:23\n",
      "congratulation guess\n"
     ]
    }
   ],
   "source": [
    "import random\n",
    "num=random.randint(1,30)\n",
    "counter=1\n",
    "guess=int(input('what is the guess number:'))\n",
    "while guess != num:\n",
    "    if guess >= num:\n",
    "        print(f'guess to high {guess}')\n",
    "    elif guess <= num:\n",
    "        print(f'guess to low {guess}')\n",
    "    guess=int(input('what is the guess number:'))\n",
    "    counter =+1\n",
    "else:\n",
    "    print('congratulation guess')  "
   ]
  },
  {
   "cell_type": "code",
   "execution_count": 56,
   "id": "162b777d",
   "metadata": {},
   "outputs": [
    {
     "name": "stdout",
     "output_type": "stream",
     "text": [
      "{'age': 12, 'section': 103, 'name': 'favour'}\n"
     ]
    }
   ],
   "source": [
    "def user_id(**user):\n",
    "    print(user)\n",
    "    \n",
    "    \n",
    "user_id(age=12,section=103,name='favour')    "
   ]
  },
  {
   "cell_type": "code",
   "execution_count": 61,
   "id": "ef612664",
   "metadata": {},
   "outputs": [
    {
     "name": "stdout",
     "output_type": "stream",
     "text": [
      " the conversion of miles is 112.0\n"
     ]
    }
   ],
   "source": [
    "\n",
    "# km=1.6*miles\n",
    "def km(miles):\n",
    "    kilometer=1.6 * miles\n",
    "    print(f' the conversion of miles is {kilometer}')\n",
    "km(70)          "
   ]
  },
  {
   "cell_type": "code",
   "execution_count": 80,
   "id": "f05ca418",
   "metadata": {},
   "outputs": [],
   "source": [
    "class palmpay():\n",
    "    def __init__(self):\n",
    "        self.balance=0\n",
    "    def deposit(self):\n",
    "        amount=float(input('Enter your deposit amount:'))\n",
    "        print('deposit successfull!!!!')\n",
    "        self.balance += amount\n",
    "    def transfer(self):\n",
    "        amount=float(input('Enter your transfer amount:'))\n",
    "        bank=input('bank name:')\n",
    "        accountnumber=int(input('enter the user acct no:'))\n",
    "        if amount > self.balance or amount==0:\n",
    "            print('you have insufficient fund for this transaction')\n",
    "        else:\n",
    "            amount-= self.balance\n",
    "            print('Transaction successfull !!!')\n",
    "    def airtime(self):\n",
    "        amount=float(input('Enter your airtime  amount:'))\n",
    "        provider=input('provider name:')\n",
    "        phonenumber=int(input('enter the user acct no:'))\n",
    "        if amount > self.balance or amount==0:\n",
    "            print('you have insufficient fund for this transaction')\n",
    "        else:\n",
    "            amount-= self.balance\n",
    "            print('Transaction successfull !!!')\n",
    "    def data(self):\n",
    "        amount=float(input('Enter your data amount:'))\n",
    "        provider=input('provider name:')\n",
    "        phonenumber=int(input('enter the phone number:'))\n",
    "        if amount > self.balance or amount==0:\n",
    "            print('you have insufficient fund for this transaction')\n",
    "        else:\n",
    "            amount-= self.balance\n",
    "            print('Transaction successfull !!!')\n",
    "    def checkbalance(self):\n",
    "        print(f'you balance is {self.balance}')\n",
    "app=palmpay()              "
   ]
  },
  {
   "cell_type": "code",
   "execution_count": 69,
   "id": "e7bd4b2d",
   "metadata": {},
   "outputs": [
    {
     "name": "stdout",
     "output_type": "stream",
     "text": [
      "Enter your data amount:90000\n",
      "provider name:airtel\n",
      "enter the phone number:000990299387879\n",
      "you have insufficient fund for this transaction\n"
     ]
    }
   ],
   "source": [
    "app.data()"
   ]
  },
  {
   "cell_type": "code",
   "execution_count": 83,
   "id": "99f58b35",
   "metadata": {},
   "outputs": [
    {
     "name": "stdout",
     "output_type": "stream",
     "text": [
      "Enter your deposit amount:8000000\n",
      "deposit successfull!!!!\n"
     ]
    }
   ],
   "source": [
    "app.deposit()"
   ]
  },
  {
   "cell_type": "code",
   "execution_count": 85,
   "id": "7000c48f",
   "metadata": {
    "scrolled": true
   },
   "outputs": [
    {
     "name": "stdout",
     "output_type": "stream",
     "text": [
      "Enter your transfer amount:90000\n",
      "bank name:zenith\n",
      "enter the user acct no:454563455725\n",
      "Transaction successfull !!!\n"
     ]
    }
   ],
   "source": [
    "app.transfer()"
   ]
  },
  {
   "cell_type": "code",
   "execution_count": 86,
   "id": "78a096ec",
   "metadata": {},
   "outputs": [
    {
     "name": "stdout",
     "output_type": "stream",
     "text": [
      "you balance is 88000000.0\n"
     ]
    }
   ],
   "source": [
    "app.checkbalance()"
   ]
  },
  {
   "cell_type": "markdown",
   "id": "c4864928",
   "metadata": {},
   "source": [
    "# EXERCISE \n",
    "# MAKE A PROGRAM OF A CERTAIN FOOD AND THE AMOUNT OF A RESTAURANT WITH THE AMOUNT OF THE CERTAIN FOOD SUCH AS\n",
    "# BURGER= 500\n",
    "#  CHICKEN WINGS=200\n",
    "# CHIKEN FOILER=100\n",
    "# CHICKEN SOUP=50\n",
    "# AND TITTLE THE RESTAURANT FOODKINGDOM"
   ]
  },
  {
   "cell_type": "code",
   "execution_count": 11,
   "id": "8add4047",
   "metadata": {},
   "outputs": [
    {
     "name": "stdout",
     "output_type": "stream",
     "text": [
      "what is food do you need:chicken foiler\n",
      "how may units:9\n",
      "Amount:100\n",
      "_______FOODKINGDOM__________\n",
      "totalfood:900.0        \n",
      "charges:10.0        \n",
      "totalamount:910.0 THANK YOU FOR PATRONAGE         \n",
      "        \n"
     ]
    }
   ],
   "source": [
    "def foodexercise():\n",
    "    option=input('what is food do you need:')\n",
    "    units=float(input('how may units:'))\n",
    "    amount=float(input('Amount:'))\n",
    "    if amount==500 and option=='Burger':\n",
    "        print(f'''_______FOODKINGDOM__________\n",
    "totalfood:{units * amount}        \n",
    "charges:{amount * 0.10}        \n",
    "totalamount:{(units * amount)+(amount * 0.10)} THANK YOU FOR PATRONAGE         \n",
    "        ''')\n",
    "    elif amount==200 and option=='chicken wings':\n",
    "        print(f'''_______FOODKINGDOM__________\n",
    "totalfood:{units*amount}        \n",
    "charges:{amount*0.10}        \n",
    "totalamount:{(units * amount)+(amount * 0.10)} THANK YOU FOR PATRONAGE         \n",
    "        ''')\n",
    "    elif amount==100 and option=='chicken foiler':\n",
    "        print(f'''_______FOODKINGDOM__________\n",
    "totalfood:{units*amount}        \n",
    "charges:{amount*0.10}        \n",
    "totalamount:{(units * amount)+(amount * 0.10)} THANK YOU FOR PATRONAGE         \n",
    "        ''')\n",
    "    elif amount==50 and option=='chicken soup':\n",
    "        print(f'''_______FOODKINGDOM__________\n",
    "totalfood:{units*amount}        \n",
    "charges:{amount*0.10}        \n",
    "totalamount:{(units * amount)+(amount * 0.10)} THANK YOU FOR PATRONAGE         \n",
    "        ''')\n",
    "foodexercise()"
   ]
  },
  {
   "cell_type": "code",
   "execution_count": null,
   "id": "132d4f04",
   "metadata": {},
   "outputs": [],
   "source": []
  }
 ],
 "metadata": {
  "kernelspec": {
   "display_name": "Python 3 (ipykernel)",
   "language": "python",
   "name": "python3"
  },
  "language_info": {
   "codemirror_mode": {
    "name": "ipython",
    "version": 3
   },
   "file_extension": ".py",
   "mimetype": "text/x-python",
   "name": "python",
   "nbconvert_exporter": "python",
   "pygments_lexer": "ipython3",
   "version": "3.11.5"
  }
 },
 "nbformat": 4,
 "nbformat_minor": 5
}
