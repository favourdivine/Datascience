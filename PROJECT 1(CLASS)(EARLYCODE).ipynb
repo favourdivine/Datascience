{
 "cells": [
  {
   "cell_type": "code",
   "execution_count": null,
   "id": "502d3094",
   "metadata": {},
   "outputs": [],
   "source": [
    "## create a program for Atm machine which has attributes of user_password\n",
    "## withdraw\n",
    "## deposit\n",
    "## balance\n",
    "## exit from it "
   ]
  },
  {
   "cell_type": "code",
   "execution_count": null,
   "id": "5415e442",
   "metadata": {},
   "outputs": [
    {
     "name": "stdout",
     "output_type": "stream",
     "text": [
      "Welcome To First Bank NIG\n",
      "Beware of your surronding,\n",
      "Your pin please:1234\n",
      "invalid input, Try agin later!!\n",
      "Welcome To First Bank NIG\n",
      "Beware of your surronding,\n"
     ]
    }
   ],
   "source": [
    "class atm_machine:\n",
    "    def __init__(self,balance,pin):\n",
    "        self.balance=balance\n",
    "        self.pin=pin\n",
    "    def balance(self):\n",
    "        return self.balance\n",
    "    \n",
    "    def deposit(self,amount):\n",
    "        if amount > 0:\n",
    "            self.balance += amount\n",
    "            return f\" Your deposit has been made Successfully!!{self.balance}\"\n",
    "        else:\n",
    "            print(\"invalid Transaction!!\")\n",
    "        \n",
    "    def withdraw(self,amount):\n",
    "        if amount <= self.balance:\n",
    "            return f\" You withdrawal has been made successfully!!{self.balance}\"\n",
    "        else:\n",
    "            print(\"Sorry you have insufficient amount,Try again later when you have enough money!!\")\n",
    "if __name__==\"__main__\":\n",
    "    initial_balance=1000 ## identifing the class in them (all in variable)\n",
    "    atm_pin=1234 ## the same thing idenityfing from __init__(all in variable)\n",
    "    ATM=atm_machine(initial_balance,atm_pin)## inputing has variable for easy input\n",
    "    \n",
    "    \n",
    "    while True:\n",
    "        print(\"Welcome To First Bank NIG\")\n",
    "        print(\"Beware of your surronding,\")\n",
    "        user_input=input(\"Your pin please:\")\n",
    "        if user_input ==ATM.pin:\n",
    "            print(\"1,:Balance\")\n",
    "            print(\"2:withdraw\")\n",
    "            print(\"3:deposit\")\n",
    "            print(\"4:Exit\")\n",
    "            \n",
    "            if  choice == \"1\":\n",
    "                print(f\"your balance is: {ATM.balance()}\")\n",
    "            elif choice == \"2\":\n",
    "                withdraw_amount=input(\"withdraw amount:\")\n",
    "                print(ATM.withdraw(withdraw_amount))\n",
    "            elif choice == \"3\":\n",
    "                deposit_amount=input(\"Amount intending Deposit:\")\n",
    "                print(ATM.deposit(deposit_amount))\n",
    "            elif choice == \"4\":\n",
    "                print(\"Thank you for banking the FIRST BANK NIG\")\n",
    "                break\n",
    "        else:\n",
    "            print(\"invalid input, Try agin later!!\")\n",
    "        "
   ]
  },
  {
   "cell_type": "code",
   "execution_count": null,
   "id": "51aaac3f",
   "metadata": {},
   "outputs": [],
   "source": []
  }
 ],
 "metadata": {
  "kernelspec": {
   "display_name": "Python 3 (ipykernel)",
   "language": "python",
   "name": "python3"
  },
  "language_info": {
   "codemirror_mode": {
    "name": "ipython",
    "version": 3
   },
   "file_extension": ".py",
   "mimetype": "text/x-python",
   "name": "python",
   "nbconvert_exporter": "python",
   "pygments_lexer": "ipython3",
   "version": "3.11.5"
  }
 },
 "nbformat": 4,
 "nbformat_minor": 5
}
