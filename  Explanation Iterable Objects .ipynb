{
 "cells": [
  {
   "cell_type": "markdown",
   "id": "57654bd8",
   "metadata": {},
   "source": [
    " ## In Python, an iterable object is any object capable of returning its elements one at a time. \n",
    "## You can iterate over these objects using loops or comprehension constructs to access their elements sequentially. \n",
    "## Common iterable objects in Python include lists, tuples, dictionaries, sets, strings, and more."
   ]
  },
  {
   "cell_type": "code",
   "execution_count": 1,
   "id": "c2565a77",
   "metadata": {},
   "outputs": [
    {
     "name": "stdout",
     "output_type": "stream",
     "text": [
      "1\n",
      "2\n",
      "3\n",
      "4\n",
      "5\n"
     ]
    }
   ],
   "source": [
    "## Basic Iteration using for Loops:\n",
    "my_list = [1, 2, 3, 4, 5]\n",
    "for item in my_list:\n",
    "    print(item)"
   ]
  },
  {
   "cell_type": "code",
   "execution_count": 3,
   "id": "3600786c",
   "metadata": {},
   "outputs": [
    {
     "name": "stdout",
     "output_type": "stream",
     "text": [
      "1\n",
      "2\n",
      "3\n"
     ]
    }
   ],
   "source": [
    "## Advanced Iterable Objects:\n",
    "## Generators:\n",
    "## Generators are a special type of iterable. \n",
    "## They are defined using functions and the yield statement. Generators are used when you need to generate values lazily, \n",
    "## which can save memory.\n",
    "\n",
    "\n",
    "def my_generator():\n",
    "    yield 1\n",
    "    yield 2\n",
    "    yield 3\n",
    "\n",
    "gen = my_generator()\n",
    "for item in gen:\n",
    "    print(item)"
   ]
  },
  {
   "cell_type": "code",
   "execution_count": null,
   "id": "001a0f7e",
   "metadata": {},
   "outputs": [],
   "source": [
    "## Iterators:\n",
    "## An iterator is any object that implements two methods: __iter__() and __next__(). \n",
    "## Iterators allow you to create your custom iterable objects.\n",
    "\n",
    "## Iterators:\n",
    "## An iterator is any object that implements two methods: __iter__() and __next__().    \n",
    "## Iterators allow you to create your custom iterable objects.\n",
    "\n",
    "class MyIterator:\n",
    "    def __init__(self, max_value):\n",
    "        self.max_value = max_value\n",
    "        self.current = 0\n",
    "\n",
    "    def __iter__(self):\n",
    "        return self\n",
    "\n",
    "    def __next__(self):\n",
    "        if self.current < self.max_value:\n",
    "            result = self.current\n",
    "            self.current += 1\n",
    "            return result\n",
    "        else:\n",
    "            raise StopIteration\n",
    "\n",
    "my_iter = MyIterator(5)\n",
    "for item in my_iter:\n",
    "    print(item)"
   ]
  },
  {
   "cell_type": "code",
   "execution_count": null,
   "id": "6a4b0556",
   "metadata": {},
   "outputs": [],
   "source": [
    "## Iterating through Dictionaries:\n",
    "## You can iterate through dictionaries to access keys, values, or key-value pairs.\n",
    "my_dict = {'a': 1, 'b': 2, 'c': 3}\n",
    "for key in my_dict:\n",
    "    print(key, my_dict[key])"
   ]
  },
  {
   "cell_type": "code",
   "execution_count": null,
   "id": "d0970c66",
   "metadata": {},
   "outputs": [],
   "source": [
    "## map() function:\n",
    "\n",
    "## The map() function applies a given function to all items in an input list and returns a map object.\n",
    "numbers = [1, 2, 3, 4, 5]\n",
    "squared = map(lambda x: x**2, numbers)\n",
    "squared_list = list(squared)\n"
   ]
  },
  {
   "cell_type": "code",
   "execution_count": null,
   "id": "215511db",
   "metadata": {},
   "outputs": [],
   "source": [
    "## filter() function:\n",
    "## The filter() function filters the elements of an iterable based on a given function.\n",
    "numbers = [1, 2, 3, 4, 5]\n",
    "even_numbers = filter(lambda x: x % 2 == 0, numbers)\n",
    "even_list = list(even_numbers)\n"
   ]
  },
  {
   "cell_type": "code",
   "execution_count": 4,
   "id": "14e21c90",
   "metadata": {},
   "outputs": [
    {
     "name": "stdout",
     "output_type": "stream",
     "text": [
      "Alice 85\n",
      "Bob 92\n",
      "Charlie 78\n"
     ]
    }
   ],
   "source": [
    "## Iterating Over Multiple Sequences:\n",
    "names = ['Alice', 'Bob', 'Charlie']\n",
    "scores = [85, 92, 78]\n",
    "\n",
    "for name, score in zip(names, scores):\n",
    "    print(name, score)"
   ]
  },
  {
   "cell_type": "code",
   "execution_count": 6,
   "id": "7bb22ba4",
   "metadata": {},
   "outputs": [],
   "source": [
    "## So iterable are basically list,dictionary,sets,string.\n",
    "## iterable is anything that you can loop over. \n",
    "## treat the dictionary,list,set,turple"
   ]
  },
  {
   "cell_type": "code",
   "execution_count": null,
   "id": "8f31eb7c",
   "metadata": {},
   "outputs": [],
   "source": [
    "## iterable is just a loop that's why there is for loop in the discription.\n",
    "## sets\n",
    "fruits = {\"apple\", \"banana\", \"cherry\"}\n",
    "\n",
    "# Iterating through a set\n",
    "for fruit in fruits:\n",
    "    print(fruit)"
   ]
  },
  {
   "cell_type": "code",
   "execution_count": null,
   "id": "bf3ef30c",
   "metadata": {},
   "outputs": [],
   "source": [
    "dictionary\n",
    "person = {\n",
    "    \"name\": \"John\",\n",
    "    \"age\": 30,\n",
    "    \"city\": \"New York\"\n",
    "}\n",
    "\n",
    "# Iterating through keys and values in a dictionary\n",
    "for key, value in person.items():\n",
    "    print(key, \":\", value)"
   ]
  },
  {
   "cell_type": "code",
   "execution_count": null,
   "id": "6c17c8fb",
   "metadata": {},
   "outputs": [],
   "source": [
    "Tuples:\n",
    "point = (3, 4)\n",
    "\n",
    "# Accessing tuple elements\n",
    "x, y = point\n",
    "print(\"x:\", x)\n",
    "print(\"y:\", y)"
   ]
  },
  {
   "cell_type": "code",
   "execution_count": null,
   "id": "fbff84ff",
   "metadata": {},
   "outputs": [],
   "source": [
    "Lists:\n",
    "colors = [\"red\", \"green\", \"blue\", \"yellow\"]\n",
    "\n",
    "# Iterating through a list\n",
    "for color in colors:\n",
    "    print(color)    "
   ]
  },
  {
   "cell_type": "code",
   "execution_count": 10,
   "id": "15a115b6",
   "metadata": {},
   "outputs": [
    {
     "name": "stdout",
     "output_type": "stream",
     "text": [
      "red\n",
      "green\n",
      "blue\n",
      "yellow\n"
     ]
    }
   ],
   "source": [
    "colors = [\"red\", \"green\", \"blue\", \"yellow\"]\n",
    "for item in colors:\n",
    "    print(item)"
   ]
  },
  {
   "cell_type": "code",
   "execution_count": 15,
   "id": "f0189677",
   "metadata": {},
   "outputs": [
    {
     "name": "stdout",
     "output_type": "stream",
     "text": [
      "name : John\n",
      "age : 30\n",
      "city : New York\n"
     ]
    }
   ],
   "source": [
    "## dictionary\n",
    "person = {\n",
    "    \"name\": \"John\",\n",
    "    \"age\": 30,\n",
    "    \"city\": \"New York\"\n",
    "}\n",
    "\n",
    "# Iterating through keys and values in a dictionary\n",
    "for key, value in person.items():\n",
    "    print(key, \":\", value)"
   ]
  },
  {
   "cell_type": "code",
   "execution_count": null,
   "id": "aa4805ca",
   "metadata": {},
   "outputs": [],
   "source": []
  }
 ],
 "metadata": {
  "kernelspec": {
   "display_name": "Python 3 (ipykernel)",
   "language": "python",
   "name": "python3"
  },
  "language_info": {
   "codemirror_mode": {
    "name": "ipython",
    "version": 3
   },
   "file_extension": ".py",
   "mimetype": "text/x-python",
   "name": "python",
   "nbconvert_exporter": "python",
   "pygments_lexer": "ipython3",
   "version": "3.11.5"
  }
 },
 "nbformat": 4,
 "nbformat_minor": 5
}
